{
 "cells": [
  {
   "cell_type": "code",
   "execution_count": 4,
   "metadata": {
    "execution": {
     "iopub.execute_input": "2022-08-21T17:42:44.326839Z",
     "iopub.status.busy": "2022-08-21T17:42:44.326102Z",
     "iopub.status.idle": "2022-08-21T17:42:45.514987Z",
     "shell.execute_reply": "2022-08-21T17:42:45.514107Z",
     "shell.execute_reply.started": "2022-08-21T17:42:44.326736Z"
    }
   },
   "outputs": [],
   "source": [
    "import numpy as np\n",
    "import pandas as pd\n",
    "import seaborn as sns\n",
    "import matplotlib.pyplot as plt\n",
    "from sklearn.metrics import confusion_matrix, classification_report, accuracy_score"
   ]
  },
  {
   "cell_type": "code",
   "execution_count": 5,
   "metadata": {
    "execution": {
     "iopub.execute_input": "2022-08-21T17:43:41.093317Z",
     "iopub.status.busy": "2022-08-21T17:43:41.092762Z",
     "iopub.status.idle": "2022-08-21T17:43:45.914882Z",
     "shell.execute_reply": "2022-08-21T17:43:45.913463Z",
     "shell.execute_reply.started": "2022-08-21T17:43:41.093278Z"
    }
   },
   "outputs": [],
   "source": [
    "df=pd.read_csv('D:\\MLProjects\\credit card fraud 0\\creditcard.csv')"
   ]
  },
  {
   "cell_type": "code",
   "execution_count": 6,
   "metadata": {
    "execution": {
     "iopub.execute_input": "2022-08-21T17:43:48.053063Z",
     "iopub.status.busy": "2022-08-21T17:43:48.051737Z",
     "iopub.status.idle": "2022-08-21T17:43:48.203785Z",
     "shell.execute_reply": "2022-08-21T17:43:48.202441Z",
     "shell.execute_reply.started": "2022-08-21T17:43:48.053006Z"
    }
   },
   "outputs": [
    {
     "data": {
      "text/html": [
       "<style type=\"text/css\">\n",
       "#T_11756_row0_col0, #T_11756_row0_col1, #T_11756_row0_col12, #T_11756_row0_col13, #T_11756_row0_col30, #T_11756_row1_col0, #T_11756_row1_col3, #T_11756_row1_col6, #T_11756_row1_col7, #T_11756_row1_col10, #T_11756_row1_col18, #T_11756_row1_col21, #T_11756_row1_col22, #T_11756_row1_col29, #T_11756_row1_col30, #T_11756_row2_col1, #T_11756_row2_col2, #T_11756_row2_col5, #T_11756_row2_col9, #T_11756_row2_col16, #T_11756_row2_col19, #T_11756_row2_col25, #T_11756_row2_col27, #T_11756_row2_col28, #T_11756_row2_col30, #T_11756_row3_col4, #T_11756_row3_col15, #T_11756_row3_col17, #T_11756_row3_col20, #T_11756_row3_col23, #T_11756_row3_col24, #T_11756_row3_col26, #T_11756_row3_col30, #T_11756_row4_col8, #T_11756_row4_col11, #T_11756_row4_col14, #T_11756_row4_col30 {\n",
       "  background-color: #fff7fb;\n",
       "  color: #000000;\n",
       "}\n",
       "#T_11756_row0_col2 {\n",
       "  background-color: #509ac6;\n",
       "  color: #f1f1f1;\n",
       "}\n",
       "#T_11756_row0_col3, #T_11756_row0_col4, #T_11756_row1_col1, #T_11756_row1_col5, #T_11756_row1_col11, #T_11756_row1_col12, #T_11756_row1_col14, #T_11756_row1_col16, #T_11756_row2_col6, #T_11756_row2_col7, #T_11756_row2_col15, #T_11756_row2_col17, #T_11756_row2_col20, #T_11756_row2_col21, #T_11756_row2_col23, #T_11756_row2_col29, #T_11756_row3_col8, #T_11756_row3_col18, #T_11756_row3_col25, #T_11756_row4_col0, #T_11756_row4_col2, #T_11756_row4_col9, #T_11756_row4_col10, #T_11756_row4_col13, #T_11756_row4_col19, #T_11756_row4_col22, #T_11756_row4_col24, #T_11756_row4_col26, #T_11756_row4_col27, #T_11756_row4_col28 {\n",
       "  background-color: #023858;\n",
       "  color: #f1f1f1;\n",
       "}\n",
       "#T_11756_row0_col5, #T_11756_row0_col6 {\n",
       "  background-color: #c2cbe2;\n",
       "  color: #000000;\n",
       "}\n",
       "#T_11756_row0_col7, #T_11756_row3_col7 {\n",
       "  background-color: #a9bfdc;\n",
       "  color: #000000;\n",
       "}\n",
       "#T_11756_row0_col8 {\n",
       "  background-color: #529bc7;\n",
       "  color: #f1f1f1;\n",
       "}\n",
       "#T_11756_row0_col9 {\n",
       "  background-color: #0566a0;\n",
       "  color: #f1f1f1;\n",
       "}\n",
       "#T_11756_row0_col10 {\n",
       "  background-color: #c6cce3;\n",
       "  color: #000000;\n",
       "}\n",
       "#T_11756_row0_col11 {\n",
       "  background-color: #eee9f3;\n",
       "  color: #000000;\n",
       "}\n",
       "#T_11756_row0_col14 {\n",
       "  background-color: #046299;\n",
       "  color: #f1f1f1;\n",
       "}\n",
       "#T_11756_row0_col15, #T_11756_row3_col6 {\n",
       "  background-color: #167bb6;\n",
       "  color: #f1f1f1;\n",
       "}\n",
       "#T_11756_row0_col16 {\n",
       "  background-color: #1077b4;\n",
       "  color: #f1f1f1;\n",
       "}\n",
       "#T_11756_row0_col17 {\n",
       "  background-color: #75a9cf;\n",
       "  color: #f1f1f1;\n",
       "}\n",
       "#T_11756_row0_col18, #T_11756_row4_col6 {\n",
       "  background-color: #f1ebf4;\n",
       "  color: #000000;\n",
       "}\n",
       "#T_11756_row0_col19 {\n",
       "  background-color: #045b8e;\n",
       "  color: #f1f1f1;\n",
       "}\n",
       "#T_11756_row0_col20 {\n",
       "  background-color: #358fc0;\n",
       "  color: #f1f1f1;\n",
       "}\n",
       "#T_11756_row0_col21, #T_11756_row3_col28 {\n",
       "  background-color: #8cb3d5;\n",
       "  color: #000000;\n",
       "}\n",
       "#T_11756_row0_col22 {\n",
       "  background-color: #308cbe;\n",
       "  color: #f1f1f1;\n",
       "}\n",
       "#T_11756_row0_col23 {\n",
       "  background-color: #f4eef6;\n",
       "  color: #000000;\n",
       "}\n",
       "#T_11756_row0_col24 {\n",
       "  background-color: #03476f;\n",
       "  color: #f1f1f1;\n",
       "}\n",
       "#T_11756_row0_col25 {\n",
       "  background-color: #81aed2;\n",
       "  color: #f1f1f1;\n",
       "}\n",
       "#T_11756_row0_col26, #T_11756_row4_col23 {\n",
       "  background-color: #f8f1f8;\n",
       "  color: #000000;\n",
       "}\n",
       "#T_11756_row0_col27, #T_11756_row1_col19 {\n",
       "  background-color: #1c7fb8;\n",
       "  color: #f1f1f1;\n",
       "}\n",
       "#T_11756_row0_col28 {\n",
       "  background-color: #e8e4f0;\n",
       "  color: #000000;\n",
       "}\n",
       "#T_11756_row0_col29 {\n",
       "  background-color: #9fbad9;\n",
       "  color: #000000;\n",
       "}\n",
       "#T_11756_row1_col2 {\n",
       "  background-color: #0f76b3;\n",
       "  color: #f1f1f1;\n",
       "}\n",
       "#T_11756_row1_col4, #T_11756_row4_col3 {\n",
       "  background-color: #4a98c5;\n",
       "  color: #f1f1f1;\n",
       "}\n",
       "#T_11756_row1_col8 {\n",
       "  background-color: #5c9fc9;\n",
       "  color: #f1f1f1;\n",
       "}\n",
       "#T_11756_row1_col9 {\n",
       "  background-color: #60a1ca;\n",
       "  color: #f1f1f1;\n",
       "}\n",
       "#T_11756_row1_col13, #T_11756_row1_col24 {\n",
       "  background-color: #328dbf;\n",
       "  color: #f1f1f1;\n",
       "}\n",
       "#T_11756_row1_col15 {\n",
       "  background-color: #93b5d6;\n",
       "  color: #000000;\n",
       "}\n",
       "#T_11756_row1_col17 {\n",
       "  background-color: #b9c6e0;\n",
       "  color: #000000;\n",
       "}\n",
       "#T_11756_row1_col20 {\n",
       "  background-color: #dedcec;\n",
       "  color: #000000;\n",
       "}\n",
       "#T_11756_row1_col23 {\n",
       "  background-color: #cccfe5;\n",
       "  color: #000000;\n",
       "}\n",
       "#T_11756_row1_col25 {\n",
       "  background-color: #71a8ce;\n",
       "  color: #f1f1f1;\n",
       "}\n",
       "#T_11756_row1_col26 {\n",
       "  background-color: #7dacd1;\n",
       "  color: #f1f1f1;\n",
       "}\n",
       "#T_11756_row1_col27, #T_11756_row4_col5 {\n",
       "  background-color: #e2dfee;\n",
       "  color: #000000;\n",
       "}\n",
       "#T_11756_row1_col28, #T_11756_row4_col15 {\n",
       "  background-color: #c9cee4;\n",
       "  color: #000000;\n",
       "}\n",
       "#T_11756_row2_col0, #T_11756_row3_col0 {\n",
       "  background-color: #73a9cf;\n",
       "  color: #f1f1f1;\n",
       "}\n",
       "#T_11756_row2_col3 {\n",
       "  background-color: #2182b9;\n",
       "  color: #f1f1f1;\n",
       "}\n",
       "#T_11756_row2_col4 {\n",
       "  background-color: #5a9ec9;\n",
       "  color: #f1f1f1;\n",
       "}\n",
       "#T_11756_row2_col8 {\n",
       "  background-color: #0567a2;\n",
       "  color: #f1f1f1;\n",
       "}\n",
       "#T_11756_row2_col10, #T_11756_row2_col12 {\n",
       "  background-color: #99b8d8;\n",
       "  color: #000000;\n",
       "}\n",
       "#T_11756_row2_col11 {\n",
       "  background-color: #4496c3;\n",
       "  color: #f1f1f1;\n",
       "}\n",
       "#T_11756_row2_col13 {\n",
       "  background-color: #0c74b2;\n",
       "  color: #f1f1f1;\n",
       "}\n",
       "#T_11756_row2_col14 {\n",
       "  background-color: #023d60;\n",
       "  color: #f1f1f1;\n",
       "}\n",
       "#T_11756_row2_col18 {\n",
       "  background-color: #fbf3f9;\n",
       "  color: #000000;\n",
       "}\n",
       "#T_11756_row2_col22 {\n",
       "  background-color: #023c5f;\n",
       "  color: #f1f1f1;\n",
       "}\n",
       "#T_11756_row2_col24 {\n",
       "  background-color: #a8bedc;\n",
       "  color: #000000;\n",
       "}\n",
       "#T_11756_row2_col26 {\n",
       "  background-color: #eee8f3;\n",
       "  color: #000000;\n",
       "}\n",
       "#T_11756_row3_col1 {\n",
       "  background-color: #e6e2ef;\n",
       "  color: #000000;\n",
       "}\n",
       "#T_11756_row3_col2 {\n",
       "  background-color: #69a5cc;\n",
       "  color: #f1f1f1;\n",
       "}\n",
       "#T_11756_row3_col3, #T_11756_row4_col12 {\n",
       "  background-color: #1e80b8;\n",
       "  color: #f1f1f1;\n",
       "}\n",
       "#T_11756_row3_col5 {\n",
       "  background-color: #04598c;\n",
       "  color: #f1f1f1;\n",
       "}\n",
       "#T_11756_row3_col9 {\n",
       "  background-color: #f7f0f7;\n",
       "  color: #000000;\n",
       "}\n",
       "#T_11756_row3_col10, #T_11756_row4_col25 {\n",
       "  background-color: #ede7f2;\n",
       "  color: #000000;\n",
       "}\n",
       "#T_11756_row3_col11 {\n",
       "  background-color: #d2d2e7;\n",
       "  color: #000000;\n",
       "}\n",
       "#T_11756_row3_col12 {\n",
       "  background-color: #7eadd1;\n",
       "  color: #f1f1f1;\n",
       "}\n",
       "#T_11756_row3_col13 {\n",
       "  background-color: #2f8bbe;\n",
       "  color: #f1f1f1;\n",
       "}\n",
       "#T_11756_row3_col14 {\n",
       "  background-color: #045e93;\n",
       "  color: #f1f1f1;\n",
       "}\n",
       "#T_11756_row3_col16 {\n",
       "  background-color: #5ea0ca;\n",
       "  color: #f1f1f1;\n",
       "}\n",
       "#T_11756_row3_col19 {\n",
       "  background-color: #b4c4df;\n",
       "  color: #000000;\n",
       "}\n",
       "#T_11756_row3_col21, #T_11756_row4_col17 {\n",
       "  background-color: #d1d2e6;\n",
       "  color: #000000;\n",
       "}\n",
       "#T_11756_row3_col22 {\n",
       "  background-color: #89b1d4;\n",
       "  color: #000000;\n",
       "}\n",
       "#T_11756_row3_col27 {\n",
       "  background-color: #8fb4d6;\n",
       "  color: #000000;\n",
       "}\n",
       "#T_11756_row3_col29 {\n",
       "  background-color: #b8c6e0;\n",
       "  color: #000000;\n",
       "}\n",
       "#T_11756_row4_col1 {\n",
       "  background-color: #f3edf5;\n",
       "  color: #000000;\n",
       "}\n",
       "#T_11756_row4_col4 {\n",
       "  background-color: #549cc7;\n",
       "  color: #f1f1f1;\n",
       "}\n",
       "#T_11756_row4_col7 {\n",
       "  background-color: #056caa;\n",
       "  color: #f1f1f1;\n",
       "}\n",
       "#T_11756_row4_col16 {\n",
       "  background-color: #0d75b3;\n",
       "  color: #f1f1f1;\n",
       "}\n",
       "#T_11756_row4_col18 {\n",
       "  background-color: #f5eef6;\n",
       "  color: #000000;\n",
       "}\n",
       "#T_11756_row4_col20 {\n",
       "  background-color: #046096;\n",
       "  color: #f1f1f1;\n",
       "}\n",
       "#T_11756_row4_col21 {\n",
       "  background-color: #86b0d3;\n",
       "  color: #000000;\n",
       "}\n",
       "#T_11756_row4_col29 {\n",
       "  background-color: #e0deed;\n",
       "  color: #000000;\n",
       "}\n",
       "</style>\n",
       "<table id=\"T_11756_\">\n",
       "  <thead>\n",
       "    <tr>\n",
       "      <th class=\"blank level0\" >&nbsp;</th>\n",
       "      <th class=\"col_heading level0 col0\" >Time</th>\n",
       "      <th class=\"col_heading level0 col1\" >V1</th>\n",
       "      <th class=\"col_heading level0 col2\" >V2</th>\n",
       "      <th class=\"col_heading level0 col3\" >V3</th>\n",
       "      <th class=\"col_heading level0 col4\" >V4</th>\n",
       "      <th class=\"col_heading level0 col5\" >V5</th>\n",
       "      <th class=\"col_heading level0 col6\" >V6</th>\n",
       "      <th class=\"col_heading level0 col7\" >V7</th>\n",
       "      <th class=\"col_heading level0 col8\" >V8</th>\n",
       "      <th class=\"col_heading level0 col9\" >V9</th>\n",
       "      <th class=\"col_heading level0 col10\" >V10</th>\n",
       "      <th class=\"col_heading level0 col11\" >V11</th>\n",
       "      <th class=\"col_heading level0 col12\" >V12</th>\n",
       "      <th class=\"col_heading level0 col13\" >V13</th>\n",
       "      <th class=\"col_heading level0 col14\" >V14</th>\n",
       "      <th class=\"col_heading level0 col15\" >V15</th>\n",
       "      <th class=\"col_heading level0 col16\" >V16</th>\n",
       "      <th class=\"col_heading level0 col17\" >V17</th>\n",
       "      <th class=\"col_heading level0 col18\" >V18</th>\n",
       "      <th class=\"col_heading level0 col19\" >V19</th>\n",
       "      <th class=\"col_heading level0 col20\" >V20</th>\n",
       "      <th class=\"col_heading level0 col21\" >V21</th>\n",
       "      <th class=\"col_heading level0 col22\" >V22</th>\n",
       "      <th class=\"col_heading level0 col23\" >V23</th>\n",
       "      <th class=\"col_heading level0 col24\" >V24</th>\n",
       "      <th class=\"col_heading level0 col25\" >V25</th>\n",
       "      <th class=\"col_heading level0 col26\" >V26</th>\n",
       "      <th class=\"col_heading level0 col27\" >V27</th>\n",
       "      <th class=\"col_heading level0 col28\" >V28</th>\n",
       "      <th class=\"col_heading level0 col29\" >Amount</th>\n",
       "      <th class=\"col_heading level0 col30\" >Class</th>\n",
       "    </tr>\n",
       "  </thead>\n",
       "  <tbody>\n",
       "    <tr>\n",
       "      <th id=\"T_11756_level0_row0\" class=\"row_heading level0 row0\" >0</th>\n",
       "      <td id=\"T_11756_row0_col0\" class=\"data row0 col0\" >0.000000</td>\n",
       "      <td id=\"T_11756_row0_col1\" class=\"data row0 col1\" >-1.359807</td>\n",
       "      <td id=\"T_11756_row0_col2\" class=\"data row0 col2\" >-0.072781</td>\n",
       "      <td id=\"T_11756_row0_col3\" class=\"data row0 col3\" >2.536347</td>\n",
       "      <td id=\"T_11756_row0_col4\" class=\"data row0 col4\" >1.378155</td>\n",
       "      <td id=\"T_11756_row0_col5\" class=\"data row0 col5\" >-0.338321</td>\n",
       "      <td id=\"T_11756_row0_col6\" class=\"data row0 col6\" >0.462388</td>\n",
       "      <td id=\"T_11756_row0_col7\" class=\"data row0 col7\" >0.239599</td>\n",
       "      <td id=\"T_11756_row0_col8\" class=\"data row0 col8\" >0.098698</td>\n",
       "      <td id=\"T_11756_row0_col9\" class=\"data row0 col9\" >0.363787</td>\n",
       "      <td id=\"T_11756_row0_col10\" class=\"data row0 col10\" >0.090794</td>\n",
       "      <td id=\"T_11756_row0_col11\" class=\"data row0 col11\" >-0.551600</td>\n",
       "      <td id=\"T_11756_row0_col12\" class=\"data row0 col12\" >-0.617801</td>\n",
       "      <td id=\"T_11756_row0_col13\" class=\"data row0 col13\" >-0.991390</td>\n",
       "      <td id=\"T_11756_row0_col14\" class=\"data row0 col14\" >-0.311169</td>\n",
       "      <td id=\"T_11756_row0_col15\" class=\"data row0 col15\" >1.468177</td>\n",
       "      <td id=\"T_11756_row0_col16\" class=\"data row0 col16\" >-0.470401</td>\n",
       "      <td id=\"T_11756_row0_col17\" class=\"data row0 col17\" >0.207971</td>\n",
       "      <td id=\"T_11756_row0_col18\" class=\"data row0 col18\" >0.025791</td>\n",
       "      <td id=\"T_11756_row0_col19\" class=\"data row0 col19\" >0.403993</td>\n",
       "      <td id=\"T_11756_row0_col20\" class=\"data row0 col20\" >0.251412</td>\n",
       "      <td id=\"T_11756_row0_col21\" class=\"data row0 col21\" >-0.018307</td>\n",
       "      <td id=\"T_11756_row0_col22\" class=\"data row0 col22\" >0.277838</td>\n",
       "      <td id=\"T_11756_row0_col23\" class=\"data row0 col23\" >-0.110474</td>\n",
       "      <td id=\"T_11756_row0_col24\" class=\"data row0 col24\" >0.066928</td>\n",
       "      <td id=\"T_11756_row0_col25\" class=\"data row0 col25\" >0.128539</td>\n",
       "      <td id=\"T_11756_row0_col26\" class=\"data row0 col26\" >-0.189115</td>\n",
       "      <td id=\"T_11756_row0_col27\" class=\"data row0 col27\" >0.133558</td>\n",
       "      <td id=\"T_11756_row0_col28\" class=\"data row0 col28\" >-0.021053</td>\n",
       "      <td id=\"T_11756_row0_col29\" class=\"data row0 col29\" >149.620000</td>\n",
       "      <td id=\"T_11756_row0_col30\" class=\"data row0 col30\" >0</td>\n",
       "    </tr>\n",
       "    <tr>\n",
       "      <th id=\"T_11756_level0_row1\" class=\"row_heading level0 row1\" >1</th>\n",
       "      <td id=\"T_11756_row1_col0\" class=\"data row1 col0\" >0.000000</td>\n",
       "      <td id=\"T_11756_row1_col1\" class=\"data row1 col1\" >1.191857</td>\n",
       "      <td id=\"T_11756_row1_col2\" class=\"data row1 col2\" >0.266151</td>\n",
       "      <td id=\"T_11756_row1_col3\" class=\"data row1 col3\" >0.166480</td>\n",
       "      <td id=\"T_11756_row1_col4\" class=\"data row1 col4\" >0.448154</td>\n",
       "      <td id=\"T_11756_row1_col5\" class=\"data row1 col5\" >0.060018</td>\n",
       "      <td id=\"T_11756_row1_col6\" class=\"data row1 col6\" >-0.082361</td>\n",
       "      <td id=\"T_11756_row1_col7\" class=\"data row1 col7\" >-0.078803</td>\n",
       "      <td id=\"T_11756_row1_col8\" class=\"data row1 col8\" >0.085102</td>\n",
       "      <td id=\"T_11756_row1_col9\" class=\"data row1 col9\" >-0.255425</td>\n",
       "      <td id=\"T_11756_row1_col10\" class=\"data row1 col10\" >-0.166974</td>\n",
       "      <td id=\"T_11756_row1_col11\" class=\"data row1 col11\" >1.612727</td>\n",
       "      <td id=\"T_11756_row1_col12\" class=\"data row1 col12\" >1.065235</td>\n",
       "      <td id=\"T_11756_row1_col13\" class=\"data row1 col13\" >0.489095</td>\n",
       "      <td id=\"T_11756_row1_col14\" class=\"data row1 col14\" >-0.143772</td>\n",
       "      <td id=\"T_11756_row1_col15\" class=\"data row1 col15\" >0.635558</td>\n",
       "      <td id=\"T_11756_row1_col16\" class=\"data row1 col16\" >0.463917</td>\n",
       "      <td id=\"T_11756_row1_col17\" class=\"data row1 col17\" >-0.114805</td>\n",
       "      <td id=\"T_11756_row1_col18\" class=\"data row1 col18\" >-0.183361</td>\n",
       "      <td id=\"T_11756_row1_col19\" class=\"data row1 col19\" >-0.145783</td>\n",
       "      <td id=\"T_11756_row1_col20\" class=\"data row1 col20\" >-0.069083</td>\n",
       "      <td id=\"T_11756_row1_col21\" class=\"data row1 col21\" >-0.225775</td>\n",
       "      <td id=\"T_11756_row1_col22\" class=\"data row1 col22\" >-0.638672</td>\n",
       "      <td id=\"T_11756_row1_col23\" class=\"data row1 col23\" >0.101288</td>\n",
       "      <td id=\"T_11756_row1_col24\" class=\"data row1 col24\" >-0.339846</td>\n",
       "      <td id=\"T_11756_row1_col25\" class=\"data row1 col25\" >0.167170</td>\n",
       "      <td id=\"T_11756_row1_col26\" class=\"data row1 col26\" >0.125895</td>\n",
       "      <td id=\"T_11756_row1_col27\" class=\"data row1 col27\" >-0.008983</td>\n",
       "      <td id=\"T_11756_row1_col28\" class=\"data row1 col28\" >0.014724</td>\n",
       "      <td id=\"T_11756_row1_col29\" class=\"data row1 col29\" >2.690000</td>\n",
       "      <td id=\"T_11756_row1_col30\" class=\"data row1 col30\" >0</td>\n",
       "    </tr>\n",
       "    <tr>\n",
       "      <th id=\"T_11756_level0_row2\" class=\"row_heading level0 row2\" >2</th>\n",
       "      <td id=\"T_11756_row2_col0\" class=\"data row2 col0\" >1.000000</td>\n",
       "      <td id=\"T_11756_row2_col1\" class=\"data row2 col1\" >-1.358354</td>\n",
       "      <td id=\"T_11756_row2_col2\" class=\"data row2 col2\" >-1.340163</td>\n",
       "      <td id=\"T_11756_row2_col3\" class=\"data row2 col3\" >1.773209</td>\n",
       "      <td id=\"T_11756_row2_col4\" class=\"data row2 col4\" >0.379780</td>\n",
       "      <td id=\"T_11756_row2_col5\" class=\"data row2 col5\" >-0.503198</td>\n",
       "      <td id=\"T_11756_row2_col6\" class=\"data row2 col6\" >1.800499</td>\n",
       "      <td id=\"T_11756_row2_col7\" class=\"data row2 col7\" >0.791461</td>\n",
       "      <td id=\"T_11756_row2_col8\" class=\"data row2 col8\" >0.247676</td>\n",
       "      <td id=\"T_11756_row2_col9\" class=\"data row2 col9\" >-1.514654</td>\n",
       "      <td id=\"T_11756_row2_col10\" class=\"data row2 col10\" >0.207643</td>\n",
       "      <td id=\"T_11756_row2_col11\" class=\"data row2 col11\" >0.624501</td>\n",
       "      <td id=\"T_11756_row2_col12\" class=\"data row2 col12\" >0.066084</td>\n",
       "      <td id=\"T_11756_row2_col13\" class=\"data row2 col13\" >0.717293</td>\n",
       "      <td id=\"T_11756_row2_col14\" class=\"data row2 col14\" >-0.165946</td>\n",
       "      <td id=\"T_11756_row2_col15\" class=\"data row2 col15\" >2.345865</td>\n",
       "      <td id=\"T_11756_row2_col16\" class=\"data row2 col16\" >-2.890083</td>\n",
       "      <td id=\"T_11756_row2_col17\" class=\"data row2 col17\" >1.109969</td>\n",
       "      <td id=\"T_11756_row2_col18\" class=\"data row2 col18\" >-0.121359</td>\n",
       "      <td id=\"T_11756_row2_col19\" class=\"data row2 col19\" >-2.261857</td>\n",
       "      <td id=\"T_11756_row2_col20\" class=\"data row2 col20\" >0.524980</td>\n",
       "      <td id=\"T_11756_row2_col21\" class=\"data row2 col21\" >0.247998</td>\n",
       "      <td id=\"T_11756_row2_col22\" class=\"data row2 col22\" >0.771679</td>\n",
       "      <td id=\"T_11756_row2_col23\" class=\"data row2 col23\" >0.909412</td>\n",
       "      <td id=\"T_11756_row2_col24\" class=\"data row2 col24\" >-0.689281</td>\n",
       "      <td id=\"T_11756_row2_col25\" class=\"data row2 col25\" >-0.327642</td>\n",
       "      <td id=\"T_11756_row2_col26\" class=\"data row2 col26\" >-0.139097</td>\n",
       "      <td id=\"T_11756_row2_col27\" class=\"data row2 col27\" >-0.055353</td>\n",
       "      <td id=\"T_11756_row2_col28\" class=\"data row2 col28\" >-0.059752</td>\n",
       "      <td id=\"T_11756_row2_col29\" class=\"data row2 col29\" >378.660000</td>\n",
       "      <td id=\"T_11756_row2_col30\" class=\"data row2 col30\" >0</td>\n",
       "    </tr>\n",
       "    <tr>\n",
       "      <th id=\"T_11756_level0_row3\" class=\"row_heading level0 row3\" >3</th>\n",
       "      <td id=\"T_11756_row3_col0\" class=\"data row3 col0\" >1.000000</td>\n",
       "      <td id=\"T_11756_row3_col1\" class=\"data row3 col1\" >-0.966272</td>\n",
       "      <td id=\"T_11756_row3_col2\" class=\"data row3 col2\" >-0.185226</td>\n",
       "      <td id=\"T_11756_row3_col3\" class=\"data row3 col3\" >1.792993</td>\n",
       "      <td id=\"T_11756_row3_col4\" class=\"data row3 col4\" >-0.863291</td>\n",
       "      <td id=\"T_11756_row3_col5\" class=\"data row3 col5\" >-0.010309</td>\n",
       "      <td id=\"T_11756_row3_col6\" class=\"data row3 col6\" >1.247203</td>\n",
       "      <td id=\"T_11756_row3_col7\" class=\"data row3 col7\" >0.237609</td>\n",
       "      <td id=\"T_11756_row3_col8\" class=\"data row3 col8\" >0.377436</td>\n",
       "      <td id=\"T_11756_row3_col9\" class=\"data row3 col9\" >-1.387024</td>\n",
       "      <td id=\"T_11756_row3_col10\" class=\"data row3 col10\" >-0.054952</td>\n",
       "      <td id=\"T_11756_row3_col11\" class=\"data row3 col11\" >-0.226487</td>\n",
       "      <td id=\"T_11756_row3_col12\" class=\"data row3 col12\" >0.178228</td>\n",
       "      <td id=\"T_11756_row3_col13\" class=\"data row3 col13\" >0.507757</td>\n",
       "      <td id=\"T_11756_row3_col14\" class=\"data row3 col14\" >-0.287924</td>\n",
       "      <td id=\"T_11756_row3_col15\" class=\"data row3 col15\" >-0.631418</td>\n",
       "      <td id=\"T_11756_row3_col16\" class=\"data row3 col16\" >-1.059647</td>\n",
       "      <td id=\"T_11756_row3_col17\" class=\"data row3 col17\" >-0.684093</td>\n",
       "      <td id=\"T_11756_row3_col18\" class=\"data row3 col18\" >1.965775</td>\n",
       "      <td id=\"T_11756_row3_col19\" class=\"data row3 col19\" >-1.232622</td>\n",
       "      <td id=\"T_11756_row3_col20\" class=\"data row3 col20\" >-0.208038</td>\n",
       "      <td id=\"T_11756_row3_col21\" class=\"data row3 col21\" >-0.108300</td>\n",
       "      <td id=\"T_11756_row3_col22\" class=\"data row3 col22\" >0.005274</td>\n",
       "      <td id=\"T_11756_row3_col23\" class=\"data row3 col23\" >-0.190321</td>\n",
       "      <td id=\"T_11756_row3_col24\" class=\"data row3 col24\" >-1.175575</td>\n",
       "      <td id=\"T_11756_row3_col25\" class=\"data row3 col25\" >0.647376</td>\n",
       "      <td id=\"T_11756_row3_col26\" class=\"data row3 col26\" >-0.221929</td>\n",
       "      <td id=\"T_11756_row3_col27\" class=\"data row3 col27\" >0.062723</td>\n",
       "      <td id=\"T_11756_row3_col28\" class=\"data row3 col28\" >0.061458</td>\n",
       "      <td id=\"T_11756_row3_col29\" class=\"data row3 col29\" >123.500000</td>\n",
       "      <td id=\"T_11756_row3_col30\" class=\"data row3 col30\" >0</td>\n",
       "    </tr>\n",
       "    <tr>\n",
       "      <th id=\"T_11756_level0_row4\" class=\"row_heading level0 row4\" >4</th>\n",
       "      <td id=\"T_11756_row4_col0\" class=\"data row4 col0\" >2.000000</td>\n",
       "      <td id=\"T_11756_row4_col1\" class=\"data row4 col1\" >-1.158233</td>\n",
       "      <td id=\"T_11756_row4_col2\" class=\"data row4 col2\" >0.877737</td>\n",
       "      <td id=\"T_11756_row4_col3\" class=\"data row4 col3\" >1.548718</td>\n",
       "      <td id=\"T_11756_row4_col4\" class=\"data row4 col4\" >0.403034</td>\n",
       "      <td id=\"T_11756_row4_col5\" class=\"data row4 col5\" >-0.407193</td>\n",
       "      <td id=\"T_11756_row4_col6\" class=\"data row4 col6\" >0.095921</td>\n",
       "      <td id=\"T_11756_row4_col7\" class=\"data row4 col7\" >0.592941</td>\n",
       "      <td id=\"T_11756_row4_col8\" class=\"data row4 col8\" >-0.270533</td>\n",
       "      <td id=\"T_11756_row4_col9\" class=\"data row4 col9\" >0.817739</td>\n",
       "      <td id=\"T_11756_row4_col10\" class=\"data row4 col10\" >0.753074</td>\n",
       "      <td id=\"T_11756_row4_col11\" class=\"data row4 col11\" >-0.822843</td>\n",
       "      <td id=\"T_11756_row4_col12\" class=\"data row4 col12\" >0.538196</td>\n",
       "      <td id=\"T_11756_row4_col13\" class=\"data row4 col13\" >1.345852</td>\n",
       "      <td id=\"T_11756_row4_col14\" class=\"data row4 col14\" >-1.119670</td>\n",
       "      <td id=\"T_11756_row4_col15\" class=\"data row4 col15\" >0.175121</td>\n",
       "      <td id=\"T_11756_row4_col16\" class=\"data row4 col16\" >-0.451449</td>\n",
       "      <td id=\"T_11756_row4_col17\" class=\"data row4 col17\" >-0.237033</td>\n",
       "      <td id=\"T_11756_row4_col18\" class=\"data row4 col18\" >-0.038195</td>\n",
       "      <td id=\"T_11756_row4_col19\" class=\"data row4 col19\" >0.803487</td>\n",
       "      <td id=\"T_11756_row4_col20\" class=\"data row4 col20\" >0.408542</td>\n",
       "      <td id=\"T_11756_row4_col21\" class=\"data row4 col21\" >-0.009431</td>\n",
       "      <td id=\"T_11756_row4_col22\" class=\"data row4 col22\" >0.798278</td>\n",
       "      <td id=\"T_11756_row4_col23\" class=\"data row4 col23\" >-0.137458</td>\n",
       "      <td id=\"T_11756_row4_col24\" class=\"data row4 col24\" >0.141267</td>\n",
       "      <td id=\"T_11756_row4_col25\" class=\"data row4 col25\" >-0.206010</td>\n",
       "      <td id=\"T_11756_row4_col26\" class=\"data row4 col26\" >0.502292</td>\n",
       "      <td id=\"T_11756_row4_col27\" class=\"data row4 col27\" >0.219422</td>\n",
       "      <td id=\"T_11756_row4_col28\" class=\"data row4 col28\" >0.215153</td>\n",
       "      <td id=\"T_11756_row4_col29\" class=\"data row4 col29\" >69.990000</td>\n",
       "      <td id=\"T_11756_row4_col30\" class=\"data row4 col30\" >0</td>\n",
       "    </tr>\n",
       "  </tbody>\n",
       "</table>\n"
      ],
      "text/plain": [
       "<pandas.io.formats.style.Styler at 0x1f8ab558550>"
      ]
     },
     "execution_count": 6,
     "metadata": {},
     "output_type": "execute_result"
    }
   ],
   "source": [
    "df.head().style.background_gradient()"
   ]
  },
  {
   "cell_type": "code",
   "execution_count": 7,
   "metadata": {},
   "outputs": [],
   "source": [
    "#df.isnull().sum()"
   ]
  },
  {
   "cell_type": "code",
   "execution_count": 8,
   "metadata": {
    "execution": {
     "iopub.execute_input": "2022-08-21T17:43:53.297741Z",
     "iopub.status.busy": "2022-08-21T17:43:53.295304Z",
     "iopub.status.idle": "2022-08-21T17:43:53.314030Z",
     "shell.execute_reply": "2022-08-21T17:43:53.312918Z",
     "shell.execute_reply.started": "2022-08-21T17:43:53.297655Z"
    }
   },
   "outputs": [
    {
     "data": {
      "text/plain": [
       "0    284315\n",
       "1       492\n",
       "Name: Class, dtype: int64"
      ]
     },
     "execution_count": 8,
     "metadata": {},
     "output_type": "execute_result"
    }
   ],
   "source": [
    "df['Class'].value_counts()"
   ]
  },
  {
   "cell_type": "code",
   "execution_count": 9,
   "metadata": {},
   "outputs": [],
   "source": [
    "#df.info()"
   ]
  },
  {
   "cell_type": "code",
   "execution_count": 10,
   "metadata": {
    "execution": {
     "iopub.execute_input": "2022-08-21T17:43:57.008398Z",
     "iopub.status.busy": "2022-08-21T17:43:57.007824Z",
     "iopub.status.idle": "2022-08-21T17:43:57.258269Z",
     "shell.execute_reply": "2022-08-21T17:43:57.256995Z",
     "shell.execute_reply.started": "2022-08-21T17:43:57.008352Z"
    }
   },
   "outputs": [
    {
     "data": {
      "text/plain": [
       "<AxesSubplot:xlabel='Class', ylabel='count'>"
      ]
     },
     "execution_count": 10,
     "metadata": {},
     "output_type": "execute_result"
    },
    {
     "data": {
      "image/png": "[encoded data removed]",
      "text/plain": [
       "<Figure size 432x288 with 1 Axes>"
      ]
     },
     "metadata": {
      "needs_background": "light"
     },
     "output_type": "display_data"
    }
   ],
   "source": [
    "sns.countplot(x='Class',data=df,palette='GnBu')"
   ]
  },
  {
   "cell_type": "code",
   "execution_count": 11,
   "metadata": {
    "execution": {
     "iopub.execute_input": "2022-08-21T17:44:00.529674Z",
     "iopub.status.busy": "2022-08-21T17:44:00.529233Z",
     "iopub.status.idle": "2022-08-21T17:44:05.633702Z",
     "shell.execute_reply": "2022-08-21T17:44:05.632096Z",
     "shell.execute_reply.started": "2022-08-21T17:44:00.529638Z"
    }
   },
   "outputs": [
    {
     "data": {
      "text/plain": [
       "<AxesSubplot:xlabel='Class', ylabel='Amount'>"
      ]
     },
     "execution_count": 11,
     "metadata": {},
     "output_type": "execute_result"
    },
    {
     "data": {
      "image/png": "[encoded data removed]",
      "text/plain": [
       "<Figure size 432x288 with 1 Axes>"
      ]
     },
     "metadata": {
      "needs_background": "light"
     },
     "output_type": "display_data"
    }
   ],
   "source": [
    "sns.barplot(x='Class',y='Amount',data=df,palette='PuRd')"
   ]
  },
  {
   "cell_type": "code",
   "execution_count": 12,
   "metadata": {
    "execution": {
     "iopub.execute_input": "2022-08-21T17:44:08.204829Z",
     "iopub.status.busy": "2022-08-21T17:44:08.204298Z",
     "iopub.status.idle": "2022-08-21T17:44:13.415104Z",
     "shell.execute_reply": "2022-08-21T17:44:13.413738Z",
     "shell.execute_reply.started": "2022-08-21T17:44:08.204791Z"
    }
   },
   "outputs": [
    {
     "data": {
      "text/plain": [
       "<AxesSubplot:xlabel='Class', ylabel='Time'>"
      ]
     },
     "execution_count": 12,
     "metadata": {},
     "output_type": "execute_result"
    },
    {
     "data": {
      "image/png": "[encoded data removed]",
      "text/plain": [
       "<Figure size 432x288 with 1 Axes>"
      ]
     },
     "metadata": {
      "needs_background": "light"
     },
     "output_type": "display_data"
    }
   ],
   "source": [
    "sns.barplot(x='Class',y='Time',data=df,palette='Purples')"
   ]
  },
  {
   "cell_type": "code",
   "execution_count": 13,
   "metadata": {
    "execution": {
     "iopub.execute_input": "2022-08-21T17:44:15.882288Z",
     "iopub.status.busy": "2022-08-21T17:44:15.881797Z",
     "iopub.status.idle": "2022-08-21T17:44:15.951641Z",
     "shell.execute_reply": "2022-08-21T17:44:15.950373Z",
     "shell.execute_reply.started": "2022-08-21T17:44:15.882250Z"
    }
   },
   "outputs": [],
   "source": [
    "#seperating data for analysis\n",
    "normal = df[df.Class == 0]\n",
    "fraud = df[df.Class == 1]"
   ]
  },
  {
   "cell_type": "code",
   "execution_count": 14,
   "metadata": {
    "execution": {
     "iopub.execute_input": "2022-08-21T17:44:19.212046Z",
     "iopub.status.busy": "2022-08-21T17:44:19.210710Z",
     "iopub.status.idle": "2022-08-21T17:44:19.218084Z",
     "shell.execute_reply": "2022-08-21T17:44:19.217197Z",
     "shell.execute_reply.started": "2022-08-21T17:44:19.211985Z"
    }
   },
   "outputs": [
    {
     "name": "stdout",
     "output_type": "stream",
     "text": [
      "(284315, 31)\n",
      "(492, 31)\n"
     ]
    }
   ],
   "source": [
    "print(normal.shape)\n",
    "print(fraud.shape)"
   ]
  },
  {
   "cell_type": "code",
   "execution_count": 15,
   "metadata": {
    "execution": {
     "iopub.execute_input": "2022-08-21T17:44:22.879461Z",
     "iopub.status.busy": "2022-08-21T17:44:22.879027Z",
     "iopub.status.idle": "2022-08-21T17:44:22.906850Z",
     "shell.execute_reply": "2022-08-21T17:44:22.905412Z",
     "shell.execute_reply.started": "2022-08-21T17:44:22.879426Z"
    }
   },
   "outputs": [
    {
     "data": {
      "text/plain": [
       "count    284315.000000\n",
       "mean         88.291022\n",
       "std         250.105092\n",
       "min           0.000000\n",
       "25%           5.650000\n",
       "50%          22.000000\n",
       "75%          77.050000\n",
       "max       25691.160000\n",
       "Name: Amount, dtype: float64"
      ]
     },
     "execution_count": 15,
     "metadata": {},
     "output_type": "execute_result"
    }
   ],
   "source": [
    "#analyzing Amount column\n",
    "normal.Amount.describe()"
   ]
  },
  {
   "cell_type": "code",
   "execution_count": 16,
   "metadata": {
    "execution": {
     "iopub.execute_input": "2022-08-21T17:44:25.817893Z",
     "iopub.status.busy": "2022-08-21T17:44:25.817145Z",
     "iopub.status.idle": "2022-08-21T17:44:25.833413Z",
     "shell.execute_reply": "2022-08-21T17:44:25.832375Z",
     "shell.execute_reply.started": "2022-08-21T17:44:25.817841Z"
    }
   },
   "outputs": [
    {
     "data": {
      "text/plain": [
       "count     492.000000\n",
       "mean      122.211321\n",
       "std       256.683288\n",
       "min         0.000000\n",
       "25%         1.000000\n",
       "50%         9.250000\n",
       "75%       105.890000\n",
       "max      2125.870000\n",
       "Name: Amount, dtype: float64"
      ]
     },
     "execution_count": 16,
     "metadata": {},
     "output_type": "execute_result"
    }
   ],
   "source": [
    "fraud.Amount.describe()"
   ]
  },
  {
   "cell_type": "markdown",
   "metadata": {},
   "source": [
    "# Under Samping"
   ]
  },
  {
   "cell_type": "markdown",
   "metadata": {},
   "source": [
    "--we can also perform like this\n",
    "normal_sample = normal.sample(n=492)\n",
    "-now combine these two columns \n",
    "--data = pd.concat([normal_sample, fraud], axis=0)"
   ]
  },
  {
   "cell_type": "code",
   "execution_count": 17,
   "metadata": {
    "execution": {
     "iopub.execute_input": "2022-08-21T17:44:40.682622Z",
     "iopub.status.busy": "2022-08-21T17:44:40.681371Z",
     "iopub.status.idle": "2022-08-21T17:44:40.704175Z",
     "shell.execute_reply": "2022-08-21T17:44:40.702650Z",
     "shell.execute_reply.started": "2022-08-21T17:44:40.682564Z"
    }
   },
   "outputs": [],
   "source": [
    "from sklearn.model_selection import train_test_split\n",
    "from sklearn.metrics import classification_report, accuracy_score"
   ]
  },
  {
   "cell_type": "code",
   "execution_count": 18,
   "metadata": {
    "execution": {
     "iopub.execute_input": "2022-08-21T17:44:45.395619Z",
     "iopub.status.busy": "2022-08-21T17:44:45.394279Z",
     "iopub.status.idle": "2022-08-21T17:44:45.429827Z",
     "shell.execute_reply": "2022-08-21T17:44:45.428685Z",
     "shell.execute_reply.started": "2022-08-21T17:44:45.395560Z"
    }
   },
   "outputs": [],
   "source": [
    "X= df.drop('Class',axis=1)\n",
    "y= df.Class"
   ]
  },
  {
   "cell_type": "code",
   "execution_count": 19,
   "metadata": {},
   "outputs": [],
   "source": [
    "#X1 = np.array(X)\n",
    "#y1 = np.array(y)  "
   ]
  },
  {
   "cell_type": "code",
   "execution_count": 20,
   "metadata": {
    "execution": {
     "iopub.execute_input": "2022-08-21T17:45:10.117608Z",
     "iopub.status.busy": "2022-08-21T17:45:10.117090Z",
     "iopub.status.idle": "2022-08-21T17:45:10.275807Z",
     "shell.execute_reply": "2022-08-21T17:45:10.274564Z",
     "shell.execute_reply.started": "2022-08-21T17:45:10.117568Z"
    }
   },
   "outputs": [],
   "source": [
    "X_train,X_test,y_train,y_test = train_test_split(X,y,random_state=101)"
   ]
  },
  {
   "cell_type": "raw",
   "metadata": {},
   "source": [
    "-- I will reduce the points of maximum labels.\n",
    "---Example: 10000 :100 now i will take only 100 from 10000"
   ]
  },
  {
   "cell_type": "code",
   "execution_count": 21,
   "metadata": {
    "execution": {
     "iopub.execute_input": "2022-08-21T17:45:16.154646Z",
     "iopub.status.busy": "2022-08-21T17:45:16.154173Z",
     "iopub.status.idle": "2022-08-21T17:45:16.468824Z",
     "shell.execute_reply": "2022-08-21T17:45:16.467690Z",
     "shell.execute_reply.started": "2022-08-21T17:45:16.154608Z"
    }
   },
   "outputs": [],
   "source": [
    "from collections import Counter\n",
    "from imblearn.under_sampling import RandomUnderSampler "
   ]
  },
  {
   "cell_type": "code",
   "execution_count": 22,
   "metadata": {
    "execution": {
     "iopub.execute_input": "2022-08-21T17:45:21.499694Z",
     "iopub.status.busy": "2022-08-21T17:45:21.499284Z",
     "iopub.status.idle": "2022-08-21T17:45:21.604484Z",
     "shell.execute_reply": "2022-08-21T17:45:21.603327Z",
     "shell.execute_reply.started": "2022-08-21T17:45:21.499662Z"
    }
   },
   "outputs": [
    {
     "name": "stdout",
     "output_type": "stream",
     "text": [
      "the number of classes before the fit Counter({0: 213238, 1: 367})\n",
      "the number of classes after the fit Counter({0: 458, 1: 367})\n"
     ]
    },
    {
     "name": "stderr",
     "output_type": "stream",
     "text": [
      "C:\\Users\\Bhargav\\anaconda3\\lib\\site-packages\\imblearn\\utils\\_validation.py:586: FutureWarning: Pass sampling_strategy=0.8 as keyword args. From version 0.9 passing these as positional arguments will result in an error\n",
      "  warnings.warn(\n"
     ]
    }
   ],
   "source": [
    "ns=RandomUnderSampler(0.8) #reduce it 0.8\n",
    "X_train_ns,y_train_ns = ns.fit_resample(X_train,y_train)\n",
    "print('the number of classes before the fit {}'.format(Counter(y_train)))\n",
    "print('the number of classes after the fit {}'.format(Counter(y_train_ns)))"
   ]
  },
  {
   "cell_type": "code",
   "execution_count": 23,
   "metadata": {
    "execution": {
     "iopub.execute_input": "2022-08-21T17:45:25.830153Z",
     "iopub.status.busy": "2022-08-21T17:45:25.829719Z",
     "iopub.status.idle": "2022-08-21T17:45:26.191292Z",
     "shell.execute_reply": "2022-08-21T17:45:26.190176Z",
     "shell.execute_reply.started": "2022-08-21T17:45:25.830105Z"
    }
   },
   "outputs": [
    {
     "data": {
      "text/html": [
       "<style>#sk-container-id-1 {color: black;background-color: white;}#sk-container-id-1 pre{padding: 0;}#sk-container-id-1 div.sk-toggleable {background-color: white;}#sk-container-id-1 label.sk-toggleable__label {cursor: pointer;display: block;width: 100%;margin-bottom: 0;padding: 0.3em;box-sizing: border-box;text-align: center;}#sk-container-id-1 label.sk-toggleable__label-arrow:before {content: \"▸\";float: left;margin-right: 0.25em;color: #696969;}#sk-container-id-1 label.sk-toggleable__label-arrow:hover:before {color: black;}#sk-container-id-1 div.sk-estimator:hover label.sk-toggleable__label-arrow:before {color: black;}#sk-container-id-1 div.sk-toggleable__content {max-height: 0;max-width: 0;overflow: hidden;text-align: left;background-color: #f0f8ff;}#sk-container-id-1 div.sk-toggleable__content pre {margin: 0.2em;color: black;border-radius: 0.25em;background-color: #f0f8ff;}#sk-container-id-1 input.sk-toggleable__control:checked~div.sk-toggleable__content {max-height: 200px;max-width: 100%;overflow: auto;}#sk-container-id-1 input.sk-toggleable__control:checked~label.sk-toggleable__label-arrow:before {content: \"▾\";}#sk-container-id-1 div.sk-estimator input.sk-toggleable__control:checked~label.sk-toggleable__label {background-color: #d4ebff;}#sk-container-id-1 div.sk-label input.sk-toggleable__control:checked~label.sk-toggleable__label {background-color: #d4ebff;}#sk-container-id-1 input.sk-hidden--visually {border: 0;clip: rect(1px 1px 1px 1px);clip: rect(1px, 1px, 1px, 1px);height: 1px;margin: -1px;overflow: hidden;padding: 0;position: absolute;width: 1px;}#sk-container-id-1 div.sk-estimator {font-family: monospace;background-color: #f0f8ff;border: 1px dotted black;border-radius: 0.25em;box-sizing: border-box;margin-bottom: 0.5em;}#sk-container-id-1 div.sk-estimator:hover {background-color: #d4ebff;}#sk-container-id-1 div.sk-parallel-item::after {content: \"\";width: 100%;border-bottom: 1px solid gray;flex-grow: 1;}#sk-container-id-1 div.sk-label:hover label.sk-toggleable__label {background-color: #d4ebff;}#sk-container-id-1 div.sk-serial::before {content: \"\";position: absolute;border-left: 1px solid gray;box-sizing: border-box;top: 0;bottom: 0;left: 50%;z-index: 0;}#sk-container-id-1 div.sk-serial {display: flex;flex-direction: column;align-items: center;background-color: white;padding-right: 0.2em;padding-left: 0.2em;position: relative;}#sk-container-id-1 div.sk-item {position: relative;z-index: 1;}#sk-container-id-1 div.sk-parallel {display: flex;align-items: stretch;justify-content: center;background-color: white;position: relative;}#sk-container-id-1 div.sk-item::before, #sk-container-id-1 div.sk-parallel-item::before {content: \"\";position: absolute;border-left: 1px solid gray;box-sizing: border-box;top: 0;bottom: 0;left: 50%;z-index: -1;}#sk-container-id-1 div.sk-parallel-item {display: flex;flex-direction: column;z-index: 1;position: relative;background-color: white;}#sk-container-id-1 div.sk-parallel-item:first-child::after {align-self: flex-end;width: 50%;}#sk-container-id-1 div.sk-parallel-item:last-child::after {align-self: flex-start;width: 50%;}#sk-container-id-1 div.sk-parallel-item:only-child::after {width: 0;}#sk-container-id-1 div.sk-dashed-wrapped {border: 1px dashed gray;margin: 0 0.4em 0.5em 0.4em;box-sizing: border-box;padding-bottom: 0.4em;background-color: white;}#sk-container-id-1 div.sk-label label {font-family: monospace;font-weight: bold;display: inline-block;line-height: 1.2em;}#sk-container-id-1 div.sk-label-container {text-align: center;}#sk-container-id-1 div.sk-container {/* jupyter's `normalize.less` sets `[hidden] { display: none; }` but bootstrap.min.css set `[hidden] { display: none !important; }` so we also need the `!important` here to be able to override the default hidden behavior on the sphinx rendered scikit-learn.org. See: https://github.com/scikit-learn/scikit-learn/issues/21755 */display: inline-block !important;position: relative;}#sk-container-id-1 div.sk-text-repr-fallback {display: none;}</style><div id=\"sk-container-id-1\" class=\"sk-top-container\"><div class=\"sk-text-repr-fallback\"><pre>RandomForestClassifier()</pre><b>In a Jupyter environment, please rerun this cell to show the HTML representation or trust the notebook. <br />On GitHub, the HTML representation is unable to render, please try loading this page with nbviewer.org.</b></div><div class=\"sk-container\" hidden><div class=\"sk-item\"><div class=\"sk-estimator sk-toggleable\"><input class=\"sk-toggleable__control sk-hidden--visually\" id=\"sk-estimator-id-1\" type=\"checkbox\" checked><label for=\"sk-estimator-id-1\" class=\"sk-toggleable__label sk-toggleable__label-arrow\">RandomForestClassifier</label><div class=\"sk-toggleable__content\"><pre>RandomForestClassifier()</pre></div></div></div></div></div>"
      ],
      "text/plain": [
       "RandomForestClassifier()"
      ]
     },
     "execution_count": 23,
     "metadata": {},
     "output_type": "execute_result"
    }
   ],
   "source": [
    "from sklearn.ensemble import RandomForestClassifier as RFC\n",
    "cls= RFC()\n",
    "cls.fit(X_train_ns,y_train_ns)"
   ]
  },
  {
   "cell_type": "code",
   "execution_count": 24,
   "metadata": {
    "execution": {
     "iopub.execute_input": "2022-08-21T17:45:29.244049Z",
     "iopub.status.busy": "2022-08-21T17:45:29.243402Z",
     "iopub.status.idle": "2022-08-21T17:45:29.276623Z",
     "shell.execute_reply": "2022-08-21T17:45:29.275777Z",
     "shell.execute_reply.started": "2022-08-21T17:45:29.243994Z"
    }
   },
   "outputs": [
    {
     "name": "stderr",
     "output_type": "stream",
     "text": [
      "C:\\Users\\Bhargav\\anaconda3\\lib\\site-packages\\imblearn\\utils\\_validation.py:586: FutureWarning: Pass sampling_strategy=0.8 as keyword args. From version 0.9 passing these as positional arguments will result in an error\n",
      "  warnings.warn(\n"
     ]
    }
   ],
   "source": [
    "ns=RandomUnderSampler(0.8) #reduce it 0.8\n",
    "X_test_ns,y_test_ns = ns.fit_resample(X_test,y_test)"
   ]
  },
  {
   "cell_type": "code",
   "execution_count": 25,
   "metadata": {
    "execution": {
     "iopub.execute_input": "2022-08-21T17:45:33.669821Z",
     "iopub.status.busy": "2022-08-21T17:45:33.668992Z",
     "iopub.status.idle": "2022-08-21T17:45:33.677411Z",
     "shell.execute_reply": "2022-08-21T17:45:33.675951Z",
     "shell.execute_reply.started": "2022-08-21T17:45:33.669778Z"
    }
   },
   "outputs": [
    {
     "name": "stdout",
     "output_type": "stream",
     "text": [
      "(281,)\n",
      "\n",
      "\n",
      "\n",
      "(281, 30)\n"
     ]
    }
   ],
   "source": [
    "#checking the shape of test data\n",
    "print(y_test_ns.shape)\n",
    "print('\\n\\n')\n",
    "print(X_test_ns.shape)"
   ]
  },
  {
   "cell_type": "code",
   "execution_count": 26,
   "metadata": {
    "execution": {
     "iopub.execute_input": "2022-08-21T17:45:37.002306Z",
     "iopub.status.busy": "2022-08-21T17:45:37.001440Z",
     "iopub.status.idle": "2022-08-21T17:45:37.037662Z",
     "shell.execute_reply": "2022-08-21T17:45:37.036073Z",
     "shell.execute_reply.started": "2022-08-21T17:45:37.002262Z"
    }
   },
   "outputs": [
    {
     "name": "stdout",
     "output_type": "stream",
     "text": [
      "              precision    recall  f1-score   support\n",
      "\n",
      "           0       0.92      1.00      0.96       156\n",
      "           1       1.00      0.90      0.95       125\n",
      "\n",
      "    accuracy                           0.95       281\n",
      "   macro avg       0.96      0.95      0.95       281\n",
      "weighted avg       0.96      0.95      0.95       281\n",
      "\n",
      "0.9537366548042705\n"
     ]
    }
   ],
   "source": [
    "y_pred1 = cls.predict(X_test_ns)\n",
    "print(classification_report(y_test_ns,y_pred1))\n",
    "print(accuracy_score(y_test_ns,y_pred1))"
   ]
  },
  {
   "cell_type": "code",
   "execution_count": 27,
   "metadata": {
    "execution": {
     "iopub.execute_input": "2022-08-21T17:45:41.049719Z",
     "iopub.status.busy": "2022-08-21T17:45:41.049261Z",
     "iopub.status.idle": "2022-08-21T17:45:41.058700Z",
     "shell.execute_reply": "2022-08-21T17:45:41.057203Z",
     "shell.execute_reply.started": "2022-08-21T17:45:41.049683Z"
    }
   },
   "outputs": [
    {
     "data": {
      "text/plain": [
       "('Normal', 'Fraud')"
      ]
     },
     "execution_count": 27,
     "metadata": {},
     "output_type": "execute_result"
    }
   ],
   "source": [
    "classes = ('Normal', 'Fraud')\n",
    "classes"
   ]
  },
  {
   "cell_type": "code",
   "execution_count": 28,
   "metadata": {
    "execution": {
     "iopub.execute_input": "2022-08-21T18:07:22.065441Z",
     "iopub.status.busy": "2022-08-21T18:07:22.064991Z",
     "iopub.status.idle": "2022-08-21T18:07:22.454670Z",
     "shell.execute_reply": "2022-08-21T18:07:22.453745Z",
     "shell.execute_reply.started": "2022-08-21T18:07:22.065405Z"
    }
   },
   "outputs": [
    {
     "data": {
      "text/plain": [
       "Text(69.0, 0.5, 'Predicted class')"
      ]
     },
     "execution_count": 28,
     "metadata": {},
     "output_type": "execute_result"
    },
    {
     "data": {
      "image/png": "[encoded data removed]",
      "text/plain": [
       "<Figure size 720x432 with 2 Axes>"
      ]
     },
     "metadata": {
      "needs_background": "light"
     },
     "output_type": "display_data"
    }
   ],
   "source": [
    "cm = confusion_matrix(y_test_ns,y_pred1)\n",
    "fig,ax= plt.subplots(figsize=(10,6))#figsize=(10,6)\n",
    "a=sns.color_palette(\"winter_r\")  #_r inverts the palette\n",
    "sns.heatmap(cm, annot=True,fmt='g',linewidths=1,linecolor='white',robust=True,annot_kws={\"size\":18},cmap=a)\n",
    " #annot_kws: settings about annotations\n",
    "ax.xaxis.set_ticklabels(classes); ax.yaxis.set_ticklabels(classes);\n",
    "plt.yticks(va=\"center\")\n",
    "plt.title('Confusion Matrix',fontsize=18,pad=18)\n",
    "plt.xlabel('Actual class',labelpad=22,fontsize=14)\n",
    "plt.ylabel('Predicted class',labelpad=22,fontsize=14)"
   ]
  },
  {
   "cell_type": "code",
   "execution_count": 29,
   "metadata": {
    "execution": {
     "iopub.execute_input": "2022-08-21T18:20:33.970388Z",
     "iopub.status.busy": "2022-08-21T18:20:33.969834Z",
     "iopub.status.idle": "2022-08-21T18:20:33.979012Z",
     "shell.execute_reply": "2022-08-21T18:20:33.976891Z",
     "shell.execute_reply.started": "2022-08-21T18:20:33.970345Z"
    }
   },
   "outputs": [],
   "source": [
    "from sklearn.naive_bayes import BernoulliNB\n",
    "from sklearn.metrics import roc_auc_score, roc_curve, accuracy_score\n",
    "bnb = BernoulliNB()"
   ]
  },
  {
   "cell_type": "code",
   "execution_count": 30,
   "metadata": {
    "execution": {
     "iopub.execute_input": "2022-08-21T18:16:05.353113Z",
     "iopub.status.busy": "2022-08-21T18:16:05.352648Z",
     "iopub.status.idle": "2022-08-21T18:16:05.366463Z",
     "shell.execute_reply": "2022-08-21T18:16:05.365222Z",
     "shell.execute_reply.started": "2022-08-21T18:16:05.353078Z"
    }
   },
   "outputs": [
    {
     "data": {
      "text/html": [
       "<style>#sk-container-id-2 {color: black;background-color: white;}#sk-container-id-2 pre{padding: 0;}#sk-container-id-2 div.sk-toggleable {background-color: white;}#sk-container-id-2 label.sk-toggleable__label {cursor: pointer;display: block;width: 100%;margin-bottom: 0;padding: 0.3em;box-sizing: border-box;text-align: center;}#sk-container-id-2 label.sk-toggleable__label-arrow:before {content: \"▸\";float: left;margin-right: 0.25em;color: #696969;}#sk-container-id-2 label.sk-toggleable__label-arrow:hover:before {color: black;}#sk-container-id-2 div.sk-estimator:hover label.sk-toggleable__label-arrow:before {color: black;}#sk-container-id-2 div.sk-toggleable__content {max-height: 0;max-width: 0;overflow: hidden;text-align: left;background-color: #f0f8ff;}#sk-container-id-2 div.sk-toggleable__content pre {margin: 0.2em;color: black;border-radius: 0.25em;background-color: #f0f8ff;}#sk-container-id-2 input.sk-toggleable__control:checked~div.sk-toggleable__content {max-height: 200px;max-width: 100%;overflow: auto;}#sk-container-id-2 input.sk-toggleable__control:checked~label.sk-toggleable__label-arrow:before {content: \"▾\";}#sk-container-id-2 div.sk-estimator input.sk-toggleable__control:checked~label.sk-toggleable__label {background-color: #d4ebff;}#sk-container-id-2 div.sk-label input.sk-toggleable__control:checked~label.sk-toggleable__label {background-color: #d4ebff;}#sk-container-id-2 input.sk-hidden--visually {border: 0;clip: rect(1px 1px 1px 1px);clip: rect(1px, 1px, 1px, 1px);height: 1px;margin: -1px;overflow: hidden;padding: 0;position: absolute;width: 1px;}#sk-container-id-2 div.sk-estimator {font-family: monospace;background-color: #f0f8ff;border: 1px dotted black;border-radius: 0.25em;box-sizing: border-box;margin-bottom: 0.5em;}#sk-container-id-2 div.sk-estimator:hover {background-color: #d4ebff;}#sk-container-id-2 div.sk-parallel-item::after {content: \"\";width: 100%;border-bottom: 1px solid gray;flex-grow: 1;}#sk-container-id-2 div.sk-label:hover label.sk-toggleable__label {background-color: #d4ebff;}#sk-container-id-2 div.sk-serial::before {content: \"\";position: absolute;border-left: 1px solid gray;box-sizing: border-box;top: 0;bottom: 0;left: 50%;z-index: 0;}#sk-container-id-2 div.sk-serial {display: flex;flex-direction: column;align-items: center;background-color: white;padding-right: 0.2em;padding-left: 0.2em;position: relative;}#sk-container-id-2 div.sk-item {position: relative;z-index: 1;}#sk-container-id-2 div.sk-parallel {display: flex;align-items: stretch;justify-content: center;background-color: white;position: relative;}#sk-container-id-2 div.sk-item::before, #sk-container-id-2 div.sk-parallel-item::before {content: \"\";position: absolute;border-left: 1px solid gray;box-sizing: border-box;top: 0;bottom: 0;left: 50%;z-index: -1;}#sk-container-id-2 div.sk-parallel-item {display: flex;flex-direction: column;z-index: 1;position: relative;background-color: white;}#sk-container-id-2 div.sk-parallel-item:first-child::after {align-self: flex-end;width: 50%;}#sk-container-id-2 div.sk-parallel-item:last-child::after {align-self: flex-start;width: 50%;}#sk-container-id-2 div.sk-parallel-item:only-child::after {width: 0;}#sk-container-id-2 div.sk-dashed-wrapped {border: 1px dashed gray;margin: 0 0.4em 0.5em 0.4em;box-sizing: border-box;padding-bottom: 0.4em;background-color: white;}#sk-container-id-2 div.sk-label label {font-family: monospace;font-weight: bold;display: inline-block;line-height: 1.2em;}#sk-container-id-2 div.sk-label-container {text-align: center;}#sk-container-id-2 div.sk-container {/* jupyter's `normalize.less` sets `[hidden] { display: none; }` but bootstrap.min.css set `[hidden] { display: none !important; }` so we also need the `!important` here to be able to override the default hidden behavior on the sphinx rendered scikit-learn.org. See: https://github.com/scikit-learn/scikit-learn/issues/21755 */display: inline-block !important;position: relative;}#sk-container-id-2 div.sk-text-repr-fallback {display: none;}</style><div id=\"sk-container-id-2\" class=\"sk-top-container\"><div class=\"sk-text-repr-fallback\"><pre>BernoulliNB()</pre><b>In a Jupyter environment, please rerun this cell to show the HTML representation or trust the notebook. <br />On GitHub, the HTML representation is unable to render, please try loading this page with nbviewer.org.</b></div><div class=\"sk-container\" hidden><div class=\"sk-item\"><div class=\"sk-estimator sk-toggleable\"><input class=\"sk-toggleable__control sk-hidden--visually\" id=\"sk-estimator-id-2\" type=\"checkbox\" checked><label for=\"sk-estimator-id-2\" class=\"sk-toggleable__label sk-toggleable__label-arrow\">BernoulliNB</label><div class=\"sk-toggleable__content\"><pre>BernoulliNB()</pre></div></div></div></div></div>"
      ],
      "text/plain": [
       "BernoulliNB()"
      ]
     },
     "execution_count": 30,
     "metadata": {},
     "output_type": "execute_result"
    }
   ],
   "source": [
    "bnb.fit(X_train_ns,y_train_ns)"
   ]
  },
  {
   "cell_type": "code",
   "execution_count": 31,
   "metadata": {
    "execution": {
     "iopub.execute_input": "2022-08-21T18:16:10.615945Z",
     "iopub.status.busy": "2022-08-21T18:16:10.615486Z",
     "iopub.status.idle": "2022-08-21T18:16:10.624951Z",
     "shell.execute_reply": "2022-08-21T18:16:10.623915Z",
     "shell.execute_reply.started": "2022-08-21T18:16:10.615910Z"
    }
   },
   "outputs": [],
   "source": [
    "y_pred1=bnb.predict(X_test_ns)"
   ]
  },
  {
   "cell_type": "code",
   "execution_count": 32,
   "metadata": {
    "execution": {
     "iopub.execute_input": "2022-08-21T18:16:13.164281Z",
     "iopub.status.busy": "2022-08-21T18:16:13.162980Z",
     "iopub.status.idle": "2022-08-21T18:16:13.174543Z",
     "shell.execute_reply": "2022-08-21T18:16:13.173629Z",
     "shell.execute_reply.started": "2022-08-21T18:16:13.164240Z"
    }
   },
   "outputs": [
    {
     "name": "stdout",
     "output_type": "stream",
     "text": [
      "              precision    recall  f1-score   support\n",
      "\n",
      "           0       0.89      1.00      0.94       156\n",
      "           1       1.00      0.85      0.92       125\n",
      "\n",
      "    accuracy                           0.93       281\n",
      "   macro avg       0.95      0.92      0.93       281\n",
      "weighted avg       0.94      0.93      0.93       281\n",
      "\n"
     ]
    }
   ],
   "source": [
    "print(classification_report(y_test_ns,y_pred1))"
   ]
  },
  {
   "cell_type": "code",
   "execution_count": 33,
   "metadata": {
    "execution": {
     "iopub.execute_input": "2022-08-21T18:16:16.683749Z",
     "iopub.status.busy": "2022-08-21T18:16:16.683125Z",
     "iopub.status.idle": "2022-08-21T18:16:16.724225Z",
     "shell.execute_reply": "2022-08-21T18:16:16.723203Z",
     "shell.execute_reply.started": "2022-08-21T18:16:16.683710Z"
    }
   },
   "outputs": [
    {
     "name": "stdout",
     "output_type": "stream",
     "text": [
      "Test ROC-AUC: 0.9239999999999999\n",
      "Test ROC-AUC: 0.9239999999999999\n"
     ]
    }
   ],
   "source": [
    "#finding the optimal threshold value\n",
    "pred = []\n",
    "for model in [cls,bnb]:\n",
    "    pred.append(pd.Series(model.predict_proba(X_test_ns)[:,1]))\n",
    "    \n",
    "    final_prediction = pd.concat(pred, axis=1).mean(axis=1)\n",
    "    \n",
    "    print('Test ROC-AUC: {}'.format(roc_auc_score(y_test_ns,y_pred1)))"
   ]
  },
  {
   "cell_type": "code",
   "execution_count": 34,
   "metadata": {
    "execution": {
     "iopub.execute_input": "2022-08-21T18:17:01.752877Z",
     "iopub.status.busy": "2022-08-21T18:17:01.752444Z",
     "iopub.status.idle": "2022-08-21T18:17:01.774078Z",
     "shell.execute_reply": "2022-08-21T18:17:01.773153Z",
     "shell.execute_reply.started": "2022-08-21T18:17:01.752844Z"
    }
   },
   "outputs": [
    {
     "data": {
      "text/html": [
       "<div>\n",
       "<style scoped>\n",
       "    .dataframe tbody tr th:only-of-type {\n",
       "        vertical-align: middle;\n",
       "    }\n",
       "\n",
       "    .dataframe tbody tr th {\n",
       "        vertical-align: top;\n",
       "    }\n",
       "\n",
       "    .dataframe thead th {\n",
       "        text-align: right;\n",
       "    }\n",
       "</style>\n",
       "<table border=\"1\" class=\"dataframe\">\n",
       "  <thead>\n",
       "    <tr style=\"text-align: right;\">\n",
       "      <th></th>\n",
       "      <th>0</th>\n",
       "      <th>1</th>\n",
       "    </tr>\n",
       "  </thead>\n",
       "  <tbody>\n",
       "    <tr>\n",
       "      <th>0</th>\n",
       "      <td>0.02</td>\n",
       "      <td>0.063323</td>\n",
       "    </tr>\n",
       "    <tr>\n",
       "      <th>1</th>\n",
       "      <td>0.09</td>\n",
       "      <td>0.001177</td>\n",
       "    </tr>\n",
       "    <tr>\n",
       "      <th>2</th>\n",
       "      <td>0.03</td>\n",
       "      <td>0.029285</td>\n",
       "    </tr>\n",
       "    <tr>\n",
       "      <th>3</th>\n",
       "      <td>0.04</td>\n",
       "      <td>0.000334</td>\n",
       "    </tr>\n",
       "    <tr>\n",
       "      <th>4</th>\n",
       "      <td>0.03</td>\n",
       "      <td>0.000944</td>\n",
       "    </tr>\n",
       "    <tr>\n",
       "      <th>...</th>\n",
       "      <td>...</td>\n",
       "      <td>...</td>\n",
       "    </tr>\n",
       "    <tr>\n",
       "      <th>276</th>\n",
       "      <td>0.45</td>\n",
       "      <td>0.003418</td>\n",
       "    </tr>\n",
       "    <tr>\n",
       "      <th>277</th>\n",
       "      <td>1.00</td>\n",
       "      <td>0.999561</td>\n",
       "    </tr>\n",
       "    <tr>\n",
       "      <th>278</th>\n",
       "      <td>1.00</td>\n",
       "      <td>0.999858</td>\n",
       "    </tr>\n",
       "    <tr>\n",
       "      <th>279</th>\n",
       "      <td>1.00</td>\n",
       "      <td>0.999856</td>\n",
       "    </tr>\n",
       "    <tr>\n",
       "      <th>280</th>\n",
       "      <td>0.96</td>\n",
       "      <td>0.999821</td>\n",
       "    </tr>\n",
       "  </tbody>\n",
       "</table>\n",
       "<p>281 rows × 2 columns</p>\n",
       "</div>"
      ],
      "text/plain": [
       "        0         1\n",
       "0    0.02  0.063323\n",
       "1    0.09  0.001177\n",
       "2    0.03  0.029285\n",
       "3    0.04  0.000334\n",
       "4    0.03  0.000944\n",
       "..    ...       ...\n",
       "276  0.45  0.003418\n",
       "277  1.00  0.999561\n",
       "278  1.00  0.999858\n",
       "279  1.00  0.999856\n",
       "280  0.96  0.999821\n",
       "\n",
       "[281 rows x 2 columns]"
      ]
     },
     "execution_count": 34,
     "metadata": {},
     "output_type": "execute_result"
    }
   ],
   "source": [
    "pd.concat(pred,axis=1)"
   ]
  },
  {
   "cell_type": "code",
   "execution_count": 35,
   "metadata": {
    "execution": {
     "iopub.execute_input": "2022-08-21T18:17:33.865104Z",
     "iopub.status.busy": "2022-08-21T18:17:33.864649Z",
     "iopub.status.idle": "2022-08-21T18:17:33.874691Z",
     "shell.execute_reply": "2022-08-21T18:17:33.873436Z",
     "shell.execute_reply.started": "2022-08-21T18:17:33.865069Z"
    }
   },
   "outputs": [
    {
     "data": {
      "text/plain": [
       "0      0.041662\n",
       "1      0.045589\n",
       "2      0.029642\n",
       "3      0.020167\n",
       "4      0.015472\n",
       "         ...   \n",
       "276    0.226709\n",
       "277    0.999781\n",
       "278    0.999929\n",
       "279    0.999928\n",
       "280    0.979910\n",
       "Length: 281, dtype: float64"
      ]
     },
     "execution_count": 35,
     "metadata": {},
     "output_type": "execute_result"
    }
   ],
   "source": [
    "final_prediction"
   ]
  },
  {
   "cell_type": "code",
   "execution_count": 36,
   "metadata": {
    "execution": {
     "iopub.execute_input": "2022-08-21T18:19:08.194127Z",
     "iopub.status.busy": "2022-08-21T18:19:08.193625Z",
     "iopub.status.idle": "2022-08-21T18:19:08.203990Z",
     "shell.execute_reply": "2022-08-21T18:19:08.203226Z",
     "shell.execute_reply.started": "2022-08-21T18:19:08.194089Z"
    }
   },
   "outputs": [
    {
     "data": {
      "text/plain": [
       "array([1.99998818e+00, 9.99988183e-01, 9.99982063e-01, 9.99981918e-01,\n",
       "       9.99980130e-01, 9.99978828e-01, 9.99976910e-01, 9.99920184e-01,\n",
       "       9.99914712e-01, 9.99870626e-01, 9.99870607e-01, 3.26694597e-01,\n",
       "       3.09921690e-01, 2.87824299e-01, 2.79571564e-01, 2.75943198e-01,\n",
       "       2.45007419e-01, 2.26150311e-01, 1.85035469e-01, 1.81866036e-01,\n",
       "       1.57177081e-01, 1.46178296e-01, 1.35138304e-01, 1.30008882e-01,\n",
       "       1.20125289e-01, 1.20051755e-01, 1.20008379e-01, 1.19996028e-01,\n",
       "       6.14040850e-02, 6.03826629e-02, 5.06022606e-02, 5.00949610e-02,\n",
       "       4.50315990e-02, 4.48787147e-02, 4.00022659e-02, 3.82989231e-02,\n",
       "       2.53104009e-02, 2.50323481e-02, 4.41745044e-08])"
      ]
     },
     "execution_count": 36,
     "metadata": {},
     "output_type": "execute_result"
    }
   ],
   "source": [
    "#roc curve-threhold values\n",
    "fpr, tpr, thresholds = roc_curve(y_test_ns,final_prediction)\n",
    "thresholds"
   ]
  },
  {
   "cell_type": "code",
   "execution_count": 37,
   "metadata": {
    "execution": {
     "iopub.execute_input": "2022-08-21T18:24:58.957721Z",
     "iopub.status.busy": "2022-08-21T18:24:58.957311Z",
     "iopub.status.idle": "2022-08-21T18:24:58.994568Z",
     "shell.execute_reply": "2022-08-21T18:24:58.992530Z",
     "shell.execute_reply.started": "2022-08-21T18:24:58.957688Z"
    }
   },
   "outputs": [
    {
     "data": {
      "text/html": [
       "<div>\n",
       "<style scoped>\n",
       "    .dataframe tbody tr th:only-of-type {\n",
       "        vertical-align: middle;\n",
       "    }\n",
       "\n",
       "    .dataframe tbody tr th {\n",
       "        vertical-align: top;\n",
       "    }\n",
       "\n",
       "    .dataframe thead th {\n",
       "        text-align: right;\n",
       "    }\n",
       "</style>\n",
       "<table border=\"1\" class=\"dataframe\">\n",
       "  <thead>\n",
       "    <tr style=\"text-align: right;\">\n",
       "      <th></th>\n",
       "      <th>thresholds</th>\n",
       "      <th>accuracy</th>\n",
       "    </tr>\n",
       "  </thead>\n",
       "  <tbody>\n",
       "    <tr>\n",
       "      <th>14</th>\n",
       "      <td>0.279572</td>\n",
       "      <td>0.946619</td>\n",
       "    </tr>\n",
       "    <tr>\n",
       "      <th>12</th>\n",
       "      <td>0.309922</td>\n",
       "      <td>0.946619</td>\n",
       "    </tr>\n",
       "    <tr>\n",
       "      <th>11</th>\n",
       "      <td>0.326695</td>\n",
       "      <td>0.943060</td>\n",
       "    </tr>\n",
       "    <tr>\n",
       "      <th>17</th>\n",
       "      <td>0.226150</td>\n",
       "      <td>0.943060</td>\n",
       "    </tr>\n",
       "    <tr>\n",
       "      <th>16</th>\n",
       "      <td>0.245007</td>\n",
       "      <td>0.943060</td>\n",
       "    </tr>\n",
       "  </tbody>\n",
       "</table>\n",
       "</div>"
      ],
      "text/plain": [
       "    thresholds  accuracy\n",
       "14    0.279572  0.946619\n",
       "12    0.309922  0.946619\n",
       "11    0.326695  0.943060\n",
       "17    0.226150  0.943060\n",
       "16    0.245007  0.943060"
      ]
     },
     "execution_count": 37,
     "metadata": {},
     "output_type": "execute_result"
    }
   ],
   "source": [
    "#now im calculating the accuracy score for threshold value\n",
    "accuracy = []\n",
    "for thres in thresholds:\n",
    "    y_pred = np.where(final_prediction>thres,1,0)\n",
    "    accuracy.append(accuracy_score(y_test_ns,y_pred,normalize=True))\n",
    "    \n",
    "accuracy = pd.concat([pd.Series(thresholds),pd.Series(accuracy)],axis=1)\n",
    "accuracy.columns=['thresholds','accuracy']\n",
    "accuracy.sort_values(by='accuracy',ascending=False,inplace=True)\n",
    "accuracy.head()"
   ]
  },
  {
   "cell_type": "code",
   "execution_count": 38,
   "metadata": {
    "execution": {
     "iopub.execute_input": "2022-08-21T18:31:24.383177Z",
     "iopub.status.busy": "2022-08-21T18:31:24.382409Z",
     "iopub.status.idle": "2022-08-21T18:31:24.391292Z",
     "shell.execute_reply": "2022-08-21T18:31:24.390185Z",
     "shell.execute_reply.started": "2022-08-21T18:31:24.383111Z"
    }
   },
   "outputs": [],
   "source": [
    "#plotting the roc curve using the fpr and tpr values \n",
    "def plot_curve(fpr,tpr):\n",
    "    plt.plot(fpr,tpr,color='orange',label='ROC')\n",
    "    plt.plot([0,1],[0,1], color='darkblue') #linestyle = '-'\n",
    "    plt.xlabel('False Positive Rate')\n",
    "    plt.ylabel('True Positive Rate')\n",
    "    plt.title('Receiver Operating Characteristic Curve')\n",
    "    plt.legend()\n",
    "    plt.show()"
   ]
  },
  {
   "cell_type": "code",
   "execution_count": 39,
   "metadata": {
    "execution": {
     "iopub.execute_input": "2022-08-21T18:31:27.576500Z",
     "iopub.status.busy": "2022-08-21T18:31:27.575953Z",
     "iopub.status.idle": "2022-08-21T18:31:27.813541Z",
     "shell.execute_reply": "2022-08-21T18:31:27.812211Z",
     "shell.execute_reply.started": "2022-08-21T18:31:27.576442Z"
    }
   },
   "outputs": [
    {
     "data": {
      "image/png": "[encoded data removed]",
      "text/plain": [
       "<Figure size 432x288 with 1 Axes>"
      ]
     },
     "metadata": {
      "needs_background": "light"
     },
     "output_type": "display_data"
    }
   ],
   "source": [
    "plot_curve(fpr,tpr)"
   ]
  },
  {
   "cell_type": "markdown",
   "metadata": {},
   "source": [
    "# OverSampling"
   ]
  },
  {
   "cell_type": "code",
   "execution_count": 40,
   "metadata": {
    "execution": {
     "iopub.execute_input": "2022-08-21T17:49:30.251116Z",
     "iopub.status.busy": "2022-08-21T17:49:30.250593Z",
     "iopub.status.idle": "2022-08-21T17:49:30.257849Z",
     "shell.execute_reply": "2022-08-21T17:49:30.256438Z",
     "shell.execute_reply.started": "2022-08-21T17:49:30.251077Z"
    }
   },
   "outputs": [],
   "source": [
    "from sklearn.utils import resample"
   ]
  },
  {
   "cell_type": "code",
   "execution_count": 41,
   "metadata": {
    "execution": {
     "iopub.execute_input": "2022-08-21T17:49:33.502785Z",
     "iopub.status.busy": "2022-08-21T17:49:33.502362Z",
     "iopub.status.idle": "2022-08-21T17:49:33.627608Z",
     "shell.execute_reply": "2022-08-21T17:49:33.626526Z",
     "shell.execute_reply.started": "2022-08-21T17:49:33.502752Z"
    }
   },
   "outputs": [],
   "source": [
    "X_train, X_test, y_train, y_test = train_test_split(X, y, test_size=0.25, random_state=41)"
   ]
  },
  {
   "cell_type": "code",
   "execution_count": 42,
   "metadata": {
    "execution": {
     "iopub.execute_input": "2022-08-21T17:49:36.083051Z",
     "iopub.status.busy": "2022-08-21T17:49:36.082655Z",
     "iopub.status.idle": "2022-08-21T17:49:36.113994Z",
     "shell.execute_reply": "2022-08-21T17:49:36.112836Z",
     "shell.execute_reply.started": "2022-08-21T17:49:36.083019Z"
    }
   },
   "outputs": [],
   "source": [
    "# concatenate our training data back together\n",
    "X = pd.concat([X_train, y_train], axis=1)"
   ]
  },
  {
   "cell_type": "code",
   "execution_count": 43,
   "metadata": {
    "execution": {
     "iopub.execute_input": "2022-08-21T17:49:38.473155Z",
     "iopub.status.busy": "2022-08-21T17:49:38.472722Z",
     "iopub.status.idle": "2022-08-21T17:49:38.519560Z",
     "shell.execute_reply": "2022-08-21T17:49:38.518458Z",
     "shell.execute_reply.started": "2022-08-21T17:49:38.473107Z"
    }
   },
   "outputs": [],
   "source": [
    "#Seperating fraud and normal transaction\n",
    "not_fraud = X[X.Class==0]\n",
    "fraud = X[X.Class==1]"
   ]
  },
  {
   "cell_type": "code",
   "execution_count": 44,
   "metadata": {
    "execution": {
     "iopub.execute_input": "2022-08-21T17:49:40.835615Z",
     "iopub.status.busy": "2022-08-21T17:49:40.835169Z",
     "iopub.status.idle": "2022-08-21T17:49:40.842166Z",
     "shell.execute_reply": "2022-08-21T17:49:40.840601Z",
     "shell.execute_reply.started": "2022-08-21T17:49:40.835580Z"
    }
   },
   "outputs": [
    {
     "name": "stdout",
     "output_type": "stream",
     "text": [
      "(213228, 31)\n",
      "(377, 31)\n"
     ]
    }
   ],
   "source": [
    "print(not_fraud.shape)\n",
    "print(fraud.shape)"
   ]
  },
  {
   "cell_type": "code",
   "execution_count": 45,
   "metadata": {
    "execution": {
     "iopub.execute_input": "2022-08-21T17:49:43.165374Z",
     "iopub.status.busy": "2022-08-21T17:49:43.164889Z",
     "iopub.status.idle": "2022-08-21T17:49:43.211431Z",
     "shell.execute_reply": "2022-08-21T17:49:43.210562Z",
     "shell.execute_reply.started": "2022-08-21T17:49:43.165338Z"
    }
   },
   "outputs": [],
   "source": [
    "fraud_upsampled = resample(fraud,\n",
    "                          replace=True, # sample with replacement\n",
    "                          n_samples=len(not_fraud), # match number in normal/not_fraud sample\n",
    "                          random_state=27) # reproducible results"
   ]
  },
  {
   "cell_type": "code",
   "execution_count": 46,
   "metadata": {
    "execution": {
     "iopub.execute_input": "2022-08-21T17:49:46.482320Z",
     "iopub.status.busy": "2022-08-21T17:49:46.481811Z",
     "iopub.status.idle": "2022-08-21T17:49:46.561979Z",
     "shell.execute_reply": "2022-08-21T17:49:46.560541Z",
     "shell.execute_reply.started": "2022-08-21T17:49:46.482280Z"
    }
   },
   "outputs": [],
   "source": [
    "upsampled = pd.concat([not_fraud, fraud_upsampled])"
   ]
  },
  {
   "cell_type": "code",
   "execution_count": 47,
   "metadata": {
    "execution": {
     "iopub.execute_input": "2022-08-21T17:49:49.289464Z",
     "iopub.status.busy": "2022-08-21T17:49:49.289005Z",
     "iopub.status.idle": "2022-08-21T17:49:49.302002Z",
     "shell.execute_reply": "2022-08-21T17:49:49.301121Z",
     "shell.execute_reply.started": "2022-08-21T17:49:49.289429Z"
    }
   },
   "outputs": [
    {
     "data": {
      "text/plain": [
       "0    213228\n",
       "1    213228\n",
       "Name: Class, dtype: int64"
      ]
     },
     "execution_count": 47,
     "metadata": {},
     "output_type": "execute_result"
    }
   ],
   "source": [
    "# check new class counts\n",
    "upsampled.Class.value_counts()"
   ]
  },
  {
   "cell_type": "code",
   "execution_count": 48,
   "metadata": {
    "execution": {
     "iopub.execute_input": "2022-08-21T17:49:52.875253Z",
     "iopub.status.busy": "2022-08-21T17:49:52.874669Z",
     "iopub.status.idle": "2022-08-21T17:49:52.885267Z",
     "shell.execute_reply": "2022-08-21T17:49:52.883687Z",
     "shell.execute_reply.started": "2022-08-21T17:49:52.875207Z"
    }
   },
   "outputs": [
    {
     "data": {
      "text/plain": [
       "(426456, 31)"
      ]
     },
     "execution_count": 48,
     "metadata": {},
     "output_type": "execute_result"
    }
   ],
   "source": [
    "upsampled.shape"
   ]
  },
  {
   "cell_type": "code",
   "execution_count": 49,
   "metadata": {
    "execution": {
     "iopub.execute_input": "2022-08-21T17:49:56.951702Z",
     "iopub.status.busy": "2022-08-21T17:49:56.951286Z",
     "iopub.status.idle": "2022-08-21T17:49:56.998697Z",
     "shell.execute_reply": "2022-08-21T17:49:56.996959Z",
     "shell.execute_reply.started": "2022-08-21T17:49:56.951668Z"
    }
   },
   "outputs": [],
   "source": [
    "#\n",
    "X_train = upsampled.drop('Class', axis=1)\n",
    "y_train = upsampled.Class"
   ]
  },
  {
   "cell_type": "code",
   "execution_count": 50,
   "metadata": {
    "execution": {
     "iopub.execute_input": "2022-08-21T17:49:59.277557Z",
     "iopub.status.busy": "2022-08-21T17:49:59.277165Z",
     "iopub.status.idle": "2022-08-21T17:53:34.428014Z",
     "shell.execute_reply": "2022-08-21T17:53:34.426814Z",
     "shell.execute_reply.started": "2022-08-21T17:49:59.277525Z"
    }
   },
   "outputs": [
    {
     "data": {
      "text/html": [
       "<style>#sk-container-id-3 {color: black;background-color: white;}#sk-container-id-3 pre{padding: 0;}#sk-container-id-3 div.sk-toggleable {background-color: white;}#sk-container-id-3 label.sk-toggleable__label {cursor: pointer;display: block;width: 100%;margin-bottom: 0;padding: 0.3em;box-sizing: border-box;text-align: center;}#sk-container-id-3 label.sk-toggleable__label-arrow:before {content: \"▸\";float: left;margin-right: 0.25em;color: #696969;}#sk-container-id-3 label.sk-toggleable__label-arrow:hover:before {color: black;}#sk-container-id-3 div.sk-estimator:hover label.sk-toggleable__label-arrow:before {color: black;}#sk-container-id-3 div.sk-toggleable__content {max-height: 0;max-width: 0;overflow: hidden;text-align: left;background-color: #f0f8ff;}#sk-container-id-3 div.sk-toggleable__content pre {margin: 0.2em;color: black;border-radius: 0.25em;background-color: #f0f8ff;}#sk-container-id-3 input.sk-toggleable__control:checked~div.sk-toggleable__content {max-height: 200px;max-width: 100%;overflow: auto;}#sk-container-id-3 input.sk-toggleable__control:checked~label.sk-toggleable__label-arrow:before {content: \"▾\";}#sk-container-id-3 div.sk-estimator input.sk-toggleable__control:checked~label.sk-toggleable__label {background-color: #d4ebff;}#sk-container-id-3 div.sk-label input.sk-toggleable__control:checked~label.sk-toggleable__label {background-color: #d4ebff;}#sk-container-id-3 input.sk-hidden--visually {border: 0;clip: rect(1px 1px 1px 1px);clip: rect(1px, 1px, 1px, 1px);height: 1px;margin: -1px;overflow: hidden;padding: 0;position: absolute;width: 1px;}#sk-container-id-3 div.sk-estimator {font-family: monospace;background-color: #f0f8ff;border: 1px dotted black;border-radius: 0.25em;box-sizing: border-box;margin-bottom: 0.5em;}#sk-container-id-3 div.sk-estimator:hover {background-color: #d4ebff;}#sk-container-id-3 div.sk-parallel-item::after {content: \"\";width: 100%;border-bottom: 1px solid gray;flex-grow: 1;}#sk-container-id-3 div.sk-label:hover label.sk-toggleable__label {background-color: #d4ebff;}#sk-container-id-3 div.sk-serial::before {content: \"\";position: absolute;border-left: 1px solid gray;box-sizing: border-box;top: 0;bottom: 0;left: 50%;z-index: 0;}#sk-container-id-3 div.sk-serial {display: flex;flex-direction: column;align-items: center;background-color: white;padding-right: 0.2em;padding-left: 0.2em;position: relative;}#sk-container-id-3 div.sk-item {position: relative;z-index: 1;}#sk-container-id-3 div.sk-parallel {display: flex;align-items: stretch;justify-content: center;background-color: white;position: relative;}#sk-container-id-3 div.sk-item::before, #sk-container-id-3 div.sk-parallel-item::before {content: \"\";position: absolute;border-left: 1px solid gray;box-sizing: border-box;top: 0;bottom: 0;left: 50%;z-index: -1;}#sk-container-id-3 div.sk-parallel-item {display: flex;flex-direction: column;z-index: 1;position: relative;background-color: white;}#sk-container-id-3 div.sk-parallel-item:first-child::after {align-self: flex-end;width: 50%;}#sk-container-id-3 div.sk-parallel-item:last-child::after {align-self: flex-start;width: 50%;}#sk-container-id-3 div.sk-parallel-item:only-child::after {width: 0;}#sk-container-id-3 div.sk-dashed-wrapped {border: 1px dashed gray;margin: 0 0.4em 0.5em 0.4em;box-sizing: border-box;padding-bottom: 0.4em;background-color: white;}#sk-container-id-3 div.sk-label label {font-family: monospace;font-weight: bold;display: inline-block;line-height: 1.2em;}#sk-container-id-3 div.sk-label-container {text-align: center;}#sk-container-id-3 div.sk-container {/* jupyter's `normalize.less` sets `[hidden] { display: none; }` but bootstrap.min.css set `[hidden] { display: none !important; }` so we also need the `!important` here to be able to override the default hidden behavior on the sphinx rendered scikit-learn.org. See: https://github.com/scikit-learn/scikit-learn/issues/21755 */display: inline-block !important;position: relative;}#sk-container-id-3 div.sk-text-repr-fallback {display: none;}</style><div id=\"sk-container-id-3\" class=\"sk-top-container\"><div class=\"sk-text-repr-fallback\"><pre>RandomForestClassifier()</pre><b>In a Jupyter environment, please rerun this cell to show the HTML representation or trust the notebook. <br />On GitHub, the HTML representation is unable to render, please try loading this page with nbviewer.org.</b></div><div class=\"sk-container\" hidden><div class=\"sk-item\"><div class=\"sk-estimator sk-toggleable\"><input class=\"sk-toggleable__control sk-hidden--visually\" id=\"sk-estimator-id-3\" type=\"checkbox\" checked><label for=\"sk-estimator-id-3\" class=\"sk-toggleable__label sk-toggleable__label-arrow\">RandomForestClassifier</label><div class=\"sk-toggleable__content\"><pre>RandomForestClassifier()</pre></div></div></div></div></div>"
      ],
      "text/plain": [
       "RandomForestClassifier()"
      ]
     },
     "execution_count": 50,
     "metadata": {},
     "output_type": "execute_result"
    }
   ],
   "source": [
    "cls.fit(X_train,y_train)"
   ]
  },
  {
   "cell_type": "code",
   "execution_count": 51,
   "metadata": {
    "execution": {
     "iopub.execute_input": "2022-08-21T17:53:39.679223Z",
     "iopub.status.busy": "2022-08-21T17:53:39.678777Z",
     "iopub.status.idle": "2022-08-21T17:53:40.362395Z",
     "shell.execute_reply": "2022-08-21T17:53:40.361162Z",
     "shell.execute_reply.started": "2022-08-21T17:53:39.679188Z"
    }
   },
   "outputs": [],
   "source": [
    "y_pred = cls.predict(X_test)"
   ]
  },
  {
   "cell_type": "code",
   "execution_count": 52,
   "metadata": {
    "execution": {
     "iopub.execute_input": "2022-08-21T17:53:42.206492Z",
     "iopub.status.busy": "2022-08-21T17:53:42.206050Z",
     "iopub.status.idle": "2022-08-21T17:53:42.316771Z",
     "shell.execute_reply": "2022-08-21T17:53:42.315024Z",
     "shell.execute_reply.started": "2022-08-21T17:53:42.206455Z"
    }
   },
   "outputs": [
    {
     "name": "stdout",
     "output_type": "stream",
     "text": [
      "              precision    recall  f1-score   support\n",
      "\n",
      "           0       1.00      1.00      1.00     71087\n",
      "           1       0.95      0.72      0.82       115\n",
      "\n",
      "    accuracy                           1.00     71202\n",
      "   macro avg       0.98      0.86      0.91     71202\n",
      "weighted avg       1.00      1.00      1.00     71202\n",
      "\n"
     ]
    }
   ],
   "source": [
    "print(classification_report(y_test,y_pred))"
   ]
  },
  {
   "cell_type": "markdown",
   "metadata": {},
   "source": [
    "# Using Smote"
   ]
  },
  {
   "cell_type": "code",
   "execution_count": 53,
   "metadata": {
    "execution": {
     "iopub.execute_input": "2022-08-21T17:56:58.773366Z",
     "iopub.status.busy": "2022-08-21T17:56:58.772784Z",
     "iopub.status.idle": "2022-08-21T17:56:58.780666Z",
     "shell.execute_reply": "2022-08-21T17:56:58.779085Z",
     "shell.execute_reply.started": "2022-08-21T17:56:58.773323Z"
    }
   },
   "outputs": [],
   "source": [
    "from imblearn.over_sampling import SMOTE"
   ]
  },
  {
   "cell_type": "code",
   "execution_count": 54,
   "metadata": {
    "execution": {
     "iopub.execute_input": "2022-08-21T17:57:00.464538Z",
     "iopub.status.busy": "2022-08-21T17:57:00.463531Z",
     "iopub.status.idle": "2022-08-21T17:57:00.497428Z",
     "shell.execute_reply": "2022-08-21T17:57:00.496498Z",
     "shell.execute_reply.started": "2022-08-21T17:57:00.464496Z"
    }
   },
   "outputs": [],
   "source": [
    "X = df.drop('Class', axis=1)\n",
    "y = df.Class"
   ]
  },
  {
   "cell_type": "code",
   "execution_count": 55,
   "metadata": {
    "execution": {
     "iopub.execute_input": "2022-08-21T17:57:02.724184Z",
     "iopub.status.busy": "2022-08-21T17:57:02.723027Z",
     "iopub.status.idle": "2022-08-21T17:57:02.829697Z",
     "shell.execute_reply": "2022-08-21T17:57:02.828527Z",
     "shell.execute_reply.started": "2022-08-21T17:57:02.724143Z"
    }
   },
   "outputs": [],
   "source": [
    "X_train, X_test, y_train, y_test = train_test_split(X, y, test_size=0.25, random_state=41)"
   ]
  },
  {
   "cell_type": "code",
   "execution_count": 56,
   "metadata": {
    "execution": {
     "iopub.execute_input": "2022-08-21T17:57:05.768618Z",
     "iopub.status.busy": "2022-08-21T17:57:05.768156Z",
     "iopub.status.idle": "2022-08-21T17:57:05.774585Z",
     "shell.execute_reply": "2022-08-21T17:57:05.773279Z",
     "shell.execute_reply.started": "2022-08-21T17:57:05.768582Z"
    }
   },
   "outputs": [],
   "source": [
    "oversample = SMOTE()"
   ]
  },
  {
   "cell_type": "code",
   "execution_count": 57,
   "metadata": {
    "execution": {
     "iopub.execute_input": "2022-08-21T17:57:07.895814Z",
     "iopub.status.busy": "2022-08-21T17:57:07.895376Z",
     "iopub.status.idle": "2022-08-21T17:57:08.416032Z",
     "shell.execute_reply": "2022-08-21T17:57:08.414660Z",
     "shell.execute_reply.started": "2022-08-21T17:57:07.895778Z"
    }
   },
   "outputs": [],
   "source": [
    "X_train, y_train =oversample.fit_resample(X_train, y_train)"
   ]
  },
  {
   "cell_type": "code",
   "execution_count": 58,
   "metadata": {
    "execution": {
     "iopub.execute_input": "2022-08-21T17:57:11.492990Z",
     "iopub.status.busy": "2022-08-21T17:57:11.491965Z",
     "iopub.status.idle": "2022-08-21T17:57:11.498903Z",
     "shell.execute_reply": "2022-08-21T17:57:11.497489Z",
     "shell.execute_reply.started": "2022-08-21T17:57:11.492936Z"
    }
   },
   "outputs": [],
   "source": [
    "from sklearn.ensemble import RandomForestClassifier\n",
    "cls = RandomForestClassifier() #max_depth=2, random_state=42,n_estimators=10"
   ]
  },
  {
   "cell_type": "code",
   "execution_count": 59,
   "metadata": {
    "execution": {
     "iopub.execute_input": "2022-08-21T17:57:15.116034Z",
     "iopub.status.busy": "2022-08-21T17:57:15.115533Z",
     "iopub.status.idle": "2022-08-21T18:04:46.356880Z",
     "shell.execute_reply": "2022-08-21T18:04:46.355563Z",
     "shell.execute_reply.started": "2022-08-21T17:57:15.115995Z"
    }
   },
   "outputs": [
    {
     "data": {
      "text/html": [
       "<style>#sk-container-id-4 {color: black;background-color: white;}#sk-container-id-4 pre{padding: 0;}#sk-container-id-4 div.sk-toggleable {background-color: white;}#sk-container-id-4 label.sk-toggleable__label {cursor: pointer;display: block;width: 100%;margin-bottom: 0;padding: 0.3em;box-sizing: border-box;text-align: center;}#sk-container-id-4 label.sk-toggleable__label-arrow:before {content: \"▸\";float: left;margin-right: 0.25em;color: #696969;}#sk-container-id-4 label.sk-toggleable__label-arrow:hover:before {color: black;}#sk-container-id-4 div.sk-estimator:hover label.sk-toggleable__label-arrow:before {color: black;}#sk-container-id-4 div.sk-toggleable__content {max-height: 0;max-width: 0;overflow: hidden;text-align: left;background-color: #f0f8ff;}#sk-container-id-4 div.sk-toggleable__content pre {margin: 0.2em;color: black;border-radius: 0.25em;background-color: #f0f8ff;}#sk-container-id-4 input.sk-toggleable__control:checked~div.sk-toggleable__content {max-height: 200px;max-width: 100%;overflow: auto;}#sk-container-id-4 input.sk-toggleable__control:checked~label.sk-toggleable__label-arrow:before {content: \"▾\";}#sk-container-id-4 div.sk-estimator input.sk-toggleable__control:checked~label.sk-toggleable__label {background-color: #d4ebff;}#sk-container-id-4 div.sk-label input.sk-toggleable__control:checked~label.sk-toggleable__label {background-color: #d4ebff;}#sk-container-id-4 input.sk-hidden--visually {border: 0;clip: rect(1px 1px 1px 1px);clip: rect(1px, 1px, 1px, 1px);height: 1px;margin: -1px;overflow: hidden;padding: 0;position: absolute;width: 1px;}#sk-container-id-4 div.sk-estimator {font-family: monospace;background-color: #f0f8ff;border: 1px dotted black;border-radius: 0.25em;box-sizing: border-box;margin-bottom: 0.5em;}#sk-container-id-4 div.sk-estimator:hover {background-color: #d4ebff;}#sk-container-id-4 div.sk-parallel-item::after {content: \"\";width: 100%;border-bottom: 1px solid gray;flex-grow: 1;}#sk-container-id-4 div.sk-label:hover label.sk-toggleable__label {background-color: #d4ebff;}#sk-container-id-4 div.sk-serial::before {content: \"\";position: absolute;border-left: 1px solid gray;box-sizing: border-box;top: 0;bottom: 0;left: 50%;z-index: 0;}#sk-container-id-4 div.sk-serial {display: flex;flex-direction: column;align-items: center;background-color: white;padding-right: 0.2em;padding-left: 0.2em;position: relative;}#sk-container-id-4 div.sk-item {position: relative;z-index: 1;}#sk-container-id-4 div.sk-parallel {display: flex;align-items: stretch;justify-content: center;background-color: white;position: relative;}#sk-container-id-4 div.sk-item::before, #sk-container-id-4 div.sk-parallel-item::before {content: \"\";position: absolute;border-left: 1px solid gray;box-sizing: border-box;top: 0;bottom: 0;left: 50%;z-index: -1;}#sk-container-id-4 div.sk-parallel-item {display: flex;flex-direction: column;z-index: 1;position: relative;background-color: white;}#sk-container-id-4 div.sk-parallel-item:first-child::after {align-self: flex-end;width: 50%;}#sk-container-id-4 div.sk-parallel-item:last-child::after {align-self: flex-start;width: 50%;}#sk-container-id-4 div.sk-parallel-item:only-child::after {width: 0;}#sk-container-id-4 div.sk-dashed-wrapped {border: 1px dashed gray;margin: 0 0.4em 0.5em 0.4em;box-sizing: border-box;padding-bottom: 0.4em;background-color: white;}#sk-container-id-4 div.sk-label label {font-family: monospace;font-weight: bold;display: inline-block;line-height: 1.2em;}#sk-container-id-4 div.sk-label-container {text-align: center;}#sk-container-id-4 div.sk-container {/* jupyter's `normalize.less` sets `[hidden] { display: none; }` but bootstrap.min.css set `[hidden] { display: none !important; }` so we also need the `!important` here to be able to override the default hidden behavior on the sphinx rendered scikit-learn.org. See: https://github.com/scikit-learn/scikit-learn/issues/21755 */display: inline-block !important;position: relative;}#sk-container-id-4 div.sk-text-repr-fallback {display: none;}</style><div id=\"sk-container-id-4\" class=\"sk-top-container\"><div class=\"sk-text-repr-fallback\"><pre>RandomForestClassifier()</pre><b>In a Jupyter environment, please rerun this cell to show the HTML representation or trust the notebook. <br />On GitHub, the HTML representation is unable to render, please try loading this page with nbviewer.org.</b></div><div class=\"sk-container\" hidden><div class=\"sk-item\"><div class=\"sk-estimator sk-toggleable\"><input class=\"sk-toggleable__control sk-hidden--visually\" id=\"sk-estimator-id-4\" type=\"checkbox\" checked><label for=\"sk-estimator-id-4\" class=\"sk-toggleable__label sk-toggleable__label-arrow\">RandomForestClassifier</label><div class=\"sk-toggleable__content\"><pre>RandomForestClassifier()</pre></div></div></div></div></div>"
      ],
      "text/plain": [
       "RandomForestClassifier()"
      ]
     },
     "execution_count": 59,
     "metadata": {},
     "output_type": "execute_result"
    }
   ],
   "source": [
    "cls.fit(X_train,y_train)"
   ]
  },
  {
   "cell_type": "code",
   "execution_count": 60,
   "metadata": {
    "execution": {
     "iopub.execute_input": "2022-08-21T18:05:30.891422Z",
     "iopub.status.busy": "2022-08-21T18:05:30.890974Z",
     "iopub.status.idle": "2022-08-21T18:05:31.784553Z",
     "shell.execute_reply": "2022-08-21T18:05:31.783201Z",
     "shell.execute_reply.started": "2022-08-21T18:05:30.891385Z"
    }
   },
   "outputs": [],
   "source": [
    "y_pred = cls.predict(X_test)"
   ]
  },
  {
   "cell_type": "code",
   "execution_count": 63,
   "metadata": {
    "execution": {
     "iopub.execute_input": "2022-08-21T18:05:33.764673Z",
     "iopub.status.busy": "2022-08-21T18:05:33.764048Z",
     "iopub.status.idle": "2022-08-21T18:05:33.893528Z",
     "shell.execute_reply": "2022-08-21T18:05:33.892204Z",
     "shell.execute_reply.started": "2022-08-21T18:05:33.764625Z"
    }
   },
   "outputs": [
    {
     "name": "stdout",
     "output_type": "stream",
     "text": [
      "              precision    recall  f1-score   support\n",
      "\n",
      "           0       1.00      1.00      1.00     71087\n",
      "           1       0.92      0.77      0.83       115\n",
      "\n",
      "    accuracy                           1.00     71202\n",
      "   macro avg       0.96      0.88      0.92     71202\n",
      "weighted avg       1.00      1.00      1.00     71202\n",
      "\n",
      "\n",
      "\n",
      "\n",
      "0.9995084407741356\n"
     ]
    }
   ],
   "source": [
    "print(classification_report(y_test,y_pred))\n",
    "print('\\n\\n')\n",
    "print(accuracy_score(y_test,y_pred))"
   ]
  },
  {
   "cell_type": "code",
   "execution_count": 65,
   "metadata": {
    "execution": {
     "iopub.execute_input": "2022-08-21T18:06:19.399475Z",
     "iopub.status.busy": "2022-08-21T18:06:19.398927Z",
     "iopub.status.idle": "2022-08-21T18:06:19.405809Z",
     "shell.execute_reply": "2022-08-21T18:06:19.404198Z",
     "shell.execute_reply.started": "2022-08-21T18:06:19.399419Z"
    }
   },
   "outputs": [],
   "source": [
    "#print(\"Train accuracy\",rfc.score(X_train,y_train))"
   ]
  }
 ],
 "metadata": {
  "kernelspec": {
   "display_name": "Python 3 (ipykernel)",
   "language": "python",
   "name": "python3"
  },
  "language_info": {
   "codemirror_mode": {
    "name": "ipython",
    "version": 3
   },
   "file_extension": ".py",
   "mimetype": "text/x-python",
   "name": "python",
   "nbconvert_exporter": "python",
   "pygments_lexer": "ipython3",
   "version": "3.9.7"
  }
 },
 "nbformat": 4,
 "nbformat_minor": 4
}
